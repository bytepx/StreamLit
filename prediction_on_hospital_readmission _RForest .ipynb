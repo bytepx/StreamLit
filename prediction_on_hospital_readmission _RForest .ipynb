{
 "cells": [
  {
   "cell_type": "markdown",
   "metadata": {
    "id": "bOR5GfZKvyrX"
   },
   "source": [
    "# Prediction on Diabetes Patient's Hospital Readmission\n",
    "\n",
    "![](https://www.docwirenews.com/wp-content/uploads/2019/05/readmissions.jpg)\n",
    "\n",
    "## Problem Statement and Objective\n",
    "A hospital readmission is when a patient who is discharged from the hospital, gets re-admitted again within a certain period of time. Hospital readmission rates for certain conditions are now considered an indicator of hospital quality, and also affect the cost of care adversely. For this reason, Centers for Medicare & Medicaid Services established the Hospital Readmissions Reduction Program which aims to improve quality of care for patients and reduce health care spending by applying payment penalties to hospitals that have more than expected readmission rates for certain conditions. Although diabetes is not yet included in the penalty measures, the program is regularly adding new disease conditions to the list, now totaling 6 for FY2018. In 2011, American hospitals spent over $41 billion on diabetic patients who got readmitted within 30 days of discharge. Being able to determine factors that lead to higher readmission in such patients, and correspondingly being able to predict which patients will get readmitted can help hospitals save millions of dollars while improving quality of care. So, with that background in mind, we used a medical claims dataset (description below), to answer these questions:\n",
    "\n",
    "1. What factors are the strongest predictors of hospital readmission in diabetic patients?\n",
    "2. How well can we predict hospital readmission in this dataset with limited features?"
   ]
  },
  {
   "cell_type": "markdown",
   "metadata": {
    "_cell_guid": "79c7e3d0-c299-4dcb-8224-4455121ee9b0",
    "_kg_hide-input": true,
    "_uuid": "d629ff2d2480ee46fbb7e2d37f6b5fab8052498a",
    "id": "ZxJfmwSavl7o"
   },
   "source": [
    "# Data Set Description\n",
    "\n",
    "\n",
    "**VARIABLE NAMES**: DESCRIPTION\n",
    "* **Encounter ID**\tUnique identifier of an encounter\n",
    "* **Patient number**\tUnique identifier of a patient\n",
    "* **Race**\tValues: Caucasian, Asian, African American, Hispanic, and other\n",
    "* **Gender**\tValues: male, female, and unknown/invalid\n",
    "* **Age**\tGrouped in 10-year intervals: 0, 10), 10, 20), …, 90, 100)\n",
    "* **Weight**\tWeight in pounds\n",
    "* **Admission type**\tInteger identifier corresponding to 9 distinct values, for example, emergency, urgent, elective, newborn, and not available\n",
    "* **Discharge disposition**\tInteger identifier corresponding to 29 distinct values, for example, discharged to home, expired, and not available\n",
    "* **Admission source**\tInteger identifier corresponding to 21 distinct values, for example, physician referral, emergency room, and transfer from a hospital\n",
    "* **Time in hospital**\tInteger number of days between admission and discharge\n",
    "* **Payer code**\tInteger identifier corresponding to 23 distinct values, for example, Blue Cross/Blue Shield, Medicare, and self-pay Medical\n",
    "* **Medical specialty**\tInteger identifier of a specialty of the admitting physician, corresponding to 84 distinct values, for example, cardiology, internal medicine, family/general practice, and surgeon\n",
    "* **Number of lab procedures**\tNumber of lab tests performed during the encounter\n",
    "* **Number of procedures** Numeric\tNumber of procedures (other than lab tests) performed during the encounter\n",
    "* **Number of medications**\tNumber of distinct generic names administered during the encounter\n",
    "* **Number of outpatient visits** Number of outpatient visits of the patient in the year preceding the encounter\n",
    "* **Number of emergency visits**\tNumber of emergency visits of the patient in the year preceding the encounter\n",
    "* **Number of inpatient visits**\tNumber of inpatient visits of the patient in the year preceding the encounter\n",
    "* **Diagnosis 1**\tThe primary diagnosis (coded as first three digits of ICD9); 848 distinct values\n",
    "* **Diagnosis 2**\tSecondary diagnosis (coded as first three digits of ICD9); 923 distinct values\n",
    "* **Diagnosis 3** Additional secondary diagnosis (coded as first three digits of ICD9); 954 distinct values\n",
    "* **Number of diagnoses**\tNumber of diagnoses entered to the system 0%\n",
    "* **Glucose serum test result**\tIndicates the range of the result or if the test was not taken. Values: “>200,” “>300,” “normal,” and “none” if not measured\n",
    "* **A1c test result**\tIndicates the range of the result or if the test was not taken. Values: “>8” if the result was greater than 8%, “>7” if the result was greater than 7% but less than 8%, “normal” if the result was less than 7%, and “none” if not measured.\n",
    "* **Change of medications**\tIndicates if there was a change in diabetic medications (either dosage or generic name). Values: “change” and “no change”\n",
    "* **Diabetes medications**\tIndicates if there was any diabetic medication prescribed. Values: “yes” and “no”\n",
    "* 24 features for medications\tFor the generic names: **metformin, repaglinide, nateglinide, chlorpropamide, glimepiride, acetohexamide, glipizide, glyburide, tolbutamide, pioglitazone, rosiglitazone, acarbose, miglitol, troglitazone, tolazamide, examide, sitagliptin, insulin, glyburide-metformin, glipizide-metformin, glimepiride- pioglitazone, metformin-rosiglitazone, and metformin- pioglitazone**, the feature indicates whether the drug was prescribed or there was a change in the dosage. Values: “up” if the dosage was increased during the encounter, “down” if the dosage was decreased, “steady” if the dosage did not change, and “no” if the drug was not prescribed\n",
    "* **Readmitted**\tDays to inpatient readmission. Values: “<30” if the patient was readmitted in less than 30 days, “>30” if the patient was readmitted in more than 30 days, and “No” for no record of readmission\n",
    "\n",
    "\n",
    "\n",
    "\n",
    "\n",
    "\n",
    "\n",
    "\n"
   ]
  },
  {
   "cell_type": "markdown",
   "metadata": {
    "_uuid": "e8459f4e9e52473b4fe8824724a87798e1946e02",
    "id": "vK6FMKHfvl7r"
   },
   "source": [
    "# Data Preparation & Exploration"
   ]
  },
  {
   "cell_type": "code",
   "execution_count": 1,
   "metadata": {
    "_uuid": "f159da396824602d8ae73fc5cb08f84987ce91f6",
    "id": "1HnaOSsWvl7s"
   },
   "outputs": [
    {
     "ename": "ModuleNotFoundError",
     "evalue": "No module named 'pandas'",
     "output_type": "error",
     "traceback": [
      "\u001b[1;31m---------------------------------------------------------------------------\u001b[0m",
      "\u001b[1;31mModuleNotFoundError\u001b[0m                       Traceback (most recent call last)",
      "Cell \u001b[1;32mIn[1], line 2\u001b[0m\n\u001b[0;32m      1\u001b[0m \u001b[38;5;66;03m#Loading libraries\u001b[39;00m\n\u001b[1;32m----> 2\u001b[0m \u001b[38;5;28;01mimport\u001b[39;00m \u001b[38;5;21;01mpandas\u001b[39;00m \u001b[38;5;28;01mas\u001b[39;00m \u001b[38;5;21;01mpd\u001b[39;00m\n\u001b[0;32m      3\u001b[0m \u001b[38;5;28;01mimport\u001b[39;00m \u001b[38;5;21;01mnumpy\u001b[39;00m \u001b[38;5;28;01mas\u001b[39;00m \u001b[38;5;21;01mnp\u001b[39;00m\n\u001b[0;32m      4\u001b[0m \u001b[38;5;28;01mimport\u001b[39;00m \u001b[38;5;21;01mmatplotlib\u001b[39;00m\u001b[38;5;21;01m.\u001b[39;00m\u001b[38;5;21;01mpyplot\u001b[39;00m \u001b[38;5;28;01mas\u001b[39;00m \u001b[38;5;21;01mplt\u001b[39;00m\n",
      "\u001b[1;31mModuleNotFoundError\u001b[0m: No module named 'pandas'"
     ]
    }
   ],
   "source": [
    "#Loading libraries\n",
    "import pandas as pd\n",
    "import numpy as np\n",
    "import matplotlib.pyplot as plt\n",
    "import seaborn as sns"
   ]
  },
  {
   "cell_type": "code",
   "execution_count": null,
   "metadata": {},
   "outputs": [],
   "source": [
    "# ! pip install matplotlib\n",
    "# ! pip install scipy\n",
    "# ! pip install seaborn"
   ]
  },
  {
   "cell_type": "code",
   "execution_count": null,
   "metadata": {
    "_uuid": "d2d61c7050ae4bf21dd0c5e84949ed951483312d",
    "id": "YhyJMatzvl7t"
   },
   "outputs": [],
   "source": [
    "#loading Dataset\n",
    "df = pd.read_csv(\"./diabetic_data.csv\")"
   ]
  },
  {
   "cell_type": "code",
   "execution_count": null,
   "metadata": {
    "_uuid": "6edaf833116f062e8b729403b2f1bc871fa7c3ff",
    "id": "6ITnoqs1vl7x"
   },
   "outputs": [],
   "source": [
    "#dropping columns with large number of missing values\n",
    "df = df.drop(['weight','payer_code','medical_specialty'], axis = 1)"
   ]
  },
  {
   "cell_type": "code",
   "execution_count": null,
   "metadata": {
    "_uuid": "e7934d84f6119a0d5e524b8d8250a143f6de87bc",
    "id": "qJTX6Yd9vl7x"
   },
   "outputs": [],
   "source": [
    "drop_Idx = set(df[(df['diag_1'] == '?') & (df['diag_2'] == '?') & (df['diag_3'] == '?')].index)\n",
    "\n",
    "drop_Idx = drop_Idx.union(set(df['diag_1'][df['diag_1'] == '?'].index))\n",
    "drop_Idx = drop_Idx.union(set(df['diag_2'][df['diag_2'] == '?'].index))\n",
    "drop_Idx = drop_Idx.union(set(df['diag_3'][df['diag_3'] == '?'].index))\n",
    "drop_Idx = drop_Idx.union(set(df['race'][df['race'] == '?'].index))\n",
    "drop_Idx = drop_Idx.union(set(df[df['discharge_disposition_id'] == 11].index))\n",
    "drop_Idx = drop_Idx.union(set(df['gender'][df['gender'] == 'Unknown/Invalid'].index))\n",
    "new_Idx = list(set(df.index) - set(drop_Idx))\n",
    "df = df.iloc[new_Idx]"
   ]
  },
  {
   "cell_type": "code",
   "execution_count": null,
   "metadata": {
    "_uuid": "c61817d428256fe7dbc6fc4268585a54fc3d5463",
    "id": "MZIMpjYyvl7y"
   },
   "outputs": [],
   "source": [
    "df = df.drop(['citoglipton', 'examide'], axis = 1)"
   ]
  },
  {
   "cell_type": "markdown",
   "metadata": {
    "id": "UzOI0KB8vl7z"
   },
   "source": [
    "## Feature Engineering"
   ]
  },
  {
   "cell_type": "markdown",
   "metadata": {
    "id": "A_UuSm1cvl7z"
   },
   "source": [
    "This is highly subjective, and partly depends on a knowledge of health care services, and making sense of the potential relationships between features. There are perhaps thousands of ways to try here. We tried some...\n",
    "\n",
    "* Service utilization: The data contains variables for number of inpatient (admissions), emergency room visits and outpatient visits for a given patient in the previous one year. These are (crude) measures of how much hospital/clinic services a person has used in the past year. We added these three to create a new variable called service utilization (see figure below). The idea was to see which version gives us better results. Granted, we did not apply any special weighting to the three ingredients of service utilization but we wanted to try something simple at this stage.\n",
    "\n"
   ]
  },
  {
   "cell_type": "code",
   "execution_count": null,
   "metadata": {
    "id": "nPNPsePuvl70"
   },
   "outputs": [],
   "source": [
    "df['service_utilization'] = df['number_outpatient'] + df['number_emergency'] + df['number_inpatient']"
   ]
  },
  {
   "cell_type": "markdown",
   "metadata": {
    "id": "9QFgSyaTvl70"
   },
   "source": [
    "* Number of medication changes: The dataset contains 23 features for 23 drugs (or combos) which indicate for each of these, whether a change in that medication was made or not during the current hospital stay of patient. Medication change for diabetics upon admission has been shown by previous research to be associated with lower readmission rates. We decided to count how many changes were made in total for each patient, and declared that a new feature. The reasoning here was to both simplify the model and possibly discover a relationship with number of changes regardless of which drug was changed."
   ]
  },
  {
   "cell_type": "code",
   "execution_count": null,
   "metadata": {
    "id": "lh7IO-sPvl70",
    "outputId": "c9688a53-f6a6-4ab1-ee91-5d23920e5ff4"
   },
   "outputs": [],
   "source": [
    "keys = ['metformin', 'repaglinide', 'nateglinide', 'chlorpropamide', 'glimepiride', 'glipizide', 'glyburide', 'pioglitazone', 'rosiglitazone', 'acarbose', 'miglitol', 'insulin', 'glyburide-metformin', 'tolazamide', 'metformin-pioglitazone','metformin-rosiglitazone', 'glimepiride-pioglitazone', 'glipizide-metformin', 'troglitazone', 'tolbutamide', 'acetohexamide']\n",
    "for col in keys:\n",
    "    colname = str(col) + 'temp'\n",
    "    df[colname] = df[col].apply(lambda x: 0 if (x == 'No' or x == 'Steady') else 1)\n",
    "df['numchange'] = 0\n",
    "for col in keys:\n",
    "    colname = str(col) + 'temp'\n",
    "    df['numchange'] = df['numchange'] + df[colname]\n",
    "    del df[colname]\n",
    "\n",
    "# df['numchange'].value_counts()"
   ]
  },
  {
   "cell_type": "code",
   "execution_count": null,
   "metadata": {
    "id": "59saNsuFvl71"
   },
   "outputs": [],
   "source": [
    "# re-encoding admission type, discharge type and admission source into fewer categories\n",
    "\n",
    "df['admission_type_id'] = df['admission_type_id'].replace(2,1)\n",
    "df['admission_type_id'] = df['admission_type_id'].replace(7,1)\n",
    "df['admission_type_id'] = df['admission_type_id'].replace(6,5)\n",
    "df['admission_type_id'] = df['admission_type_id'].replace(8,5)\n",
    "\n",
    "df['discharge_disposition_id'] = df['discharge_disposition_id'].replace(6,1)\n",
    "df['discharge_disposition_id'] = df['discharge_disposition_id'].replace(8,1)\n",
    "df['discharge_disposition_id'] = df['discharge_disposition_id'].replace(9,1)\n",
    "df['discharge_disposition_id'] = df['discharge_disposition_id'].replace(13,1)\n",
    "df['discharge_disposition_id'] = df['discharge_disposition_id'].replace(3,2)\n",
    "df['discharge_disposition_id'] = df['discharge_disposition_id'].replace(4,2)\n",
    "df['discharge_disposition_id'] = df['discharge_disposition_id'].replace(5,2)\n",
    "df['discharge_disposition_id'] = df['discharge_disposition_id'].replace(14,2)\n",
    "df['discharge_disposition_id'] = df['discharge_disposition_id'].replace(22,2)\n",
    "df['discharge_disposition_id'] = df['discharge_disposition_id'].replace(23,2)\n",
    "df['discharge_disposition_id'] = df['discharge_disposition_id'].replace(24,2)\n",
    "df['discharge_disposition_id'] = df['discharge_disposition_id'].replace(12,10)\n",
    "df['discharge_disposition_id'] = df['discharge_disposition_id'].replace(15,10)\n",
    "df['discharge_disposition_id'] = df['discharge_disposition_id'].replace(16,10)\n",
    "df['discharge_disposition_id'] = df['discharge_disposition_id'].replace(17,10)\n",
    "df['discharge_disposition_id'] = df['discharge_disposition_id'].replace(25,18)\n",
    "df['discharge_disposition_id'] = df['discharge_disposition_id'].replace(26,18)\n",
    "\n",
    "df['admission_source_id'] = df['admission_source_id'].replace(2,1)\n",
    "df['admission_source_id'] = df['admission_source_id'].replace(3,1)\n",
    "df['admission_source_id'] = df['admission_source_id'].replace(5,4)\n",
    "df['admission_source_id'] = df['admission_source_id'].replace(6,4)\n",
    "df['admission_source_id'] = df['admission_source_id'].replace(10,4)\n",
    "df['admission_source_id'] = df['admission_source_id'].replace(22,4)\n",
    "df['admission_source_id'] = df['admission_source_id'].replace(25,4)\n",
    "df['admission_source_id'] = df['admission_source_id'].replace(15,9)\n",
    "df['admission_source_id'] = df['admission_source_id'].replace(17,9)\n",
    "df['admission_source_id'] = df['admission_source_id'].replace(20,9)\n",
    "df['admission_source_id'] = df['admission_source_id'].replace(21,9)\n",
    "df['admission_source_id'] = df['admission_source_id'].replace(13,11)\n",
    "df['admission_source_id'] = df['admission_source_id'].replace(14,11)"
   ]
  },
  {
   "cell_type": "markdown",
   "metadata": {
    "id": "eILjHe79vl71"
   },
   "source": [
    "* Encoding some variables: The original dataset used string values for gender, race, medication change, and each of the 23 drugs used. To better fit those variables into our model, we interpret the variables to numeric binary variables to reflect their nature. For example, we encoded the “ medication change ” feature from “No” (no change) and “Ch” (changed) into 0 and 1.\n"
   ]
  },
  {
   "cell_type": "code",
   "execution_count": null,
   "metadata": {
    "id": "p-34YXoDvl71"
   },
   "outputs": [
    {
     "name": "stderr",
     "output_type": "stream",
     "text": [
      "/var/folders/fn/v79_dzmd4p58yddfx6975qz80000gp/T/ipykernel_15653/4019121076.py:2: FutureWarning: Downcasting behavior in `replace` is deprecated and will be removed in a future version. To retain the old behavior, explicitly call `result.infer_objects(copy=False)`. To opt-in to the future behavior, set `pd.set_option('future.no_silent_downcasting', True)`\n",
      "  df['change'] = df['change'].replace('No', 0)\n",
      "/var/folders/fn/v79_dzmd4p58yddfx6975qz80000gp/T/ipykernel_15653/4019121076.py:4: FutureWarning: Downcasting behavior in `replace` is deprecated and will be removed in a future version. To retain the old behavior, explicitly call `result.infer_objects(copy=False)`. To opt-in to the future behavior, set `pd.set_option('future.no_silent_downcasting', True)`\n",
      "  df['gender'] = df['gender'].replace('Female', 0)\n",
      "/var/folders/fn/v79_dzmd4p58yddfx6975qz80000gp/T/ipykernel_15653/4019121076.py:6: FutureWarning: Downcasting behavior in `replace` is deprecated and will be removed in a future version. To retain the old behavior, explicitly call `result.infer_objects(copy=False)`. To opt-in to the future behavior, set `pd.set_option('future.no_silent_downcasting', True)`\n",
      "  df['diabetesMed'] = df['diabetesMed'].replace('No', 0)\n",
      "/var/folders/fn/v79_dzmd4p58yddfx6975qz80000gp/T/ipykernel_15653/4019121076.py:12: FutureWarning: Downcasting behavior in `replace` is deprecated and will be removed in a future version. To retain the old behavior, explicitly call `result.infer_objects(copy=False)`. To opt-in to the future behavior, set `pd.set_option('future.no_silent_downcasting', True)`\n",
      "  df[col] = df[col].replace('Down', 1)\n",
      "/var/folders/fn/v79_dzmd4p58yddfx6975qz80000gp/T/ipykernel_15653/4019121076.py:11: FutureWarning: Downcasting behavior in `replace` is deprecated and will be removed in a future version. To retain the old behavior, explicitly call `result.infer_objects(copy=False)`. To opt-in to the future behavior, set `pd.set_option('future.no_silent_downcasting', True)`\n",
      "  df[col] = df[col].replace('Up', 1)\n",
      "/var/folders/fn/v79_dzmd4p58yddfx6975qz80000gp/T/ipykernel_15653/4019121076.py:10: FutureWarning: Downcasting behavior in `replace` is deprecated and will be removed in a future version. To retain the old behavior, explicitly call `result.infer_objects(copy=False)`. To opt-in to the future behavior, set `pd.set_option('future.no_silent_downcasting', True)`\n",
      "  df[col] = df[col].replace('Steady', 1)\n",
      "/var/folders/fn/v79_dzmd4p58yddfx6975qz80000gp/T/ipykernel_15653/4019121076.py:9: FutureWarning: Downcasting behavior in `replace` is deprecated and will be removed in a future version. To retain the old behavior, explicitly call `result.infer_objects(copy=False)`. To opt-in to the future behavior, set `pd.set_option('future.no_silent_downcasting', True)`\n",
      "  df[col] = df[col].replace('No', 0)\n"
     ]
    }
   ],
   "source": [
    "df['change'] = df['change'].replace('Ch', 1)\n",
    "df['change'] = df['change'].replace('No', 0)\n",
    "df['gender'] = df['gender'].replace('Male', 1)\n",
    "df['gender'] = df['gender'].replace('Female', 0)\n",
    "df['diabetesMed'] = df['diabetesMed'].replace('Yes', 1)\n",
    "df['diabetesMed'] = df['diabetesMed'].replace('No', 0)\n",
    "# keys is the same as before\n",
    "for col in keys:\n",
    "    df[col] = df[col].replace('No', 0)\n",
    "    df[col] = df[col].replace('Steady', 1)\n",
    "    df[col] = df[col].replace('Up', 1)\n",
    "    df[col] = df[col].replace('Down', 1)"
   ]
  },
  {
   "cell_type": "markdown",
   "metadata": {
    "id": "0av91CTEvl71"
   },
   "source": [
    "We also reduced both A1C test result and Glucose serum test result into categories of Normal, Abnormal and Not tested.\n"
   ]
  },
  {
   "cell_type": "code",
   "execution_count": null,
   "metadata": {
    "id": "rkkqGIuOvl72"
   },
   "outputs": [
    {
     "name": "stderr",
     "output_type": "stream",
     "text": [
      "/var/folders/fn/v79_dzmd4p58yddfx6975qz80000gp/T/ipykernel_15653/2049695025.py:3: FutureWarning: Downcasting behavior in `replace` is deprecated and will be removed in a future version. To retain the old behavior, explicitly call `result.infer_objects(copy=False)`. To opt-in to the future behavior, set `pd.set_option('future.no_silent_downcasting', True)`\n",
      "  df['A1Cresult'] = df['A1Cresult'].replace('Norm', 0)\n",
      "/var/folders/fn/v79_dzmd4p58yddfx6975qz80000gp/T/ipykernel_15653/2049695025.py:7: FutureWarning: Downcasting behavior in `replace` is deprecated and will be removed in a future version. To retain the old behavior, explicitly call `result.infer_objects(copy=False)`. To opt-in to the future behavior, set `pd.set_option('future.no_silent_downcasting', True)`\n",
      "  df['max_glu_serum'] = df['max_glu_serum'].replace('Norm', 0)\n"
     ]
    }
   ],
   "source": [
    "df['A1Cresult'] = df['A1Cresult'].replace('>7', 1)\n",
    "df['A1Cresult'] = df['A1Cresult'].replace('>8', 1)\n",
    "df['A1Cresult'] = df['A1Cresult'].replace('Norm', 0)\n",
    "df['A1Cresult'] = df['A1Cresult'].replace('None', -99)\n",
    "df['max_glu_serum'] = df['max_glu_serum'].replace('>200', 1)\n",
    "df['max_glu_serum'] = df['max_glu_serum'].replace('>300', 1)\n",
    "df['max_glu_serum'] = df['max_glu_serum'].replace('Norm', 0)\n",
    "df['max_glu_serum'] = df['max_glu_serum'].replace('None', -99)"
   ]
  },
  {
   "cell_type": "markdown",
   "metadata": {
    "id": "4CEj_EJhvl72"
   },
   "source": [
    "* Dealing with age: There are different ways to deal with this. The dataset only gives us age as 10 year categories, so we don’t know the exact age of each patient. The previous study on this dataset used age categories as nominal variables, but we wanted to be able to see the effect of increasing age on readmission, even if in a crude way. To do that, we assume that age of the patient on average lies at the midpoint of the age category. For example, if the patient’s age category is 20–30 years, then we assume the age = 25 years. So we converted age categories to midpoints, resulting in a numeric variable:"
   ]
  },
  {
   "cell_type": "code",
   "execution_count": null,
   "metadata": {
    "id": "u6mQ6Xijvl72",
    "outputId": "c761c02b-0115-4b71-d216-02d34325a0a9"
   },
   "outputs": [
    {
     "name": "stderr",
     "output_type": "stream",
     "text": [
      "/var/folders/fn/v79_dzmd4p58yddfx6975qz80000gp/T/ipykernel_15653/230174704.py:3: FutureWarning: Downcasting behavior in `replace` is deprecated and will be removed in a future version. To retain the old behavior, explicitly call `result.infer_objects(copy=False)`. To opt-in to the future behavior, set `pd.set_option('future.no_silent_downcasting', True)`\n",
      "  df['age'] = df['age'].replace('['+str(10*i)+'-'+str(10*(i+1))+')', i+1)\n"
     ]
    },
    {
     "data": {
      "text/plain": [
       "age\n",
       "8     24815\n",
       "7     21521\n",
       "6     16546\n",
       "9     16223\n",
       "5      9208\n",
       "4      3538\n",
       "10     2594\n",
       "3      1471\n",
       "2       466\n",
       "1        64\n",
       "Name: count, dtype: int64"
      ]
     },
     "execution_count": 13,
     "metadata": {},
     "output_type": "execute_result"
    }
   ],
   "source": [
    "# code age intervals [0-10) - [90-100) from 1-10\n",
    "for i in range(0,10):\n",
    "    df['age'] = df['age'].replace('['+str(10*i)+'-'+str(10*(i+1))+')', i+1)\n",
    "df['age'].value_counts()"
   ]
  },
  {
   "cell_type": "markdown",
   "metadata": {
    "id": "bd9031fcvl73"
   },
   "source": [
    "Collapsing of Multiple Encounters for same patient Some patients in the dataset had more than one encounter.We could not count them as independent encounters because that bias the results towards those patients who had multiple encounters. Thus we tried multiple techniques to collapse and consolidate multiple encounters for same patient such as:\n",
    "\n",
    "* Considering more than 2 readmissions across multiple encounters as readmission for collapsed record.\n",
    "* Considering average stay at hospital across multiple encounters.\n",
    "* Considering the percentage of the medication changes across multiple encounters\n",
    "* Considering the total number of the encounters to replace the encounter unique ID\n",
    "* Considering the combination of diagnoses across multiple encounters as a list However, taking the features such as “diagnosis”, for instance, we did not find it not meaningful to combine multiple categorical values into an array for building data model. We then considered first encounter and last encounter separately as possible representations of multiple encounters. However, last encounters gave extremely imbalanced data for readmissions (96/4 Readmissions vs No Readmissions) and thus, we decided to use first encounters of patients with multiple encounters. This resulted in dataset being reduced to about 70,000 encounters:"
   ]
  },
  {
   "cell_type": "code",
   "execution_count": null,
   "metadata": {
    "id": "lg9KDhYgvl73",
    "outputId": "2fdf76f4-9564-4075-ae68-857a0d59f540"
   },
   "outputs": [
    {
     "data": {
      "text/plain": [
       "(70442, 55)"
      ]
     },
     "execution_count": 14,
     "metadata": {},
     "output_type": "execute_result"
    }
   ],
   "source": [
    "df2 = df.drop_duplicates(subset= ['patient_nbr'], keep = 'first')\n",
    "df2.shape\n",
    "(70442, 55)"
   ]
  },
  {
   "cell_type": "markdown",
   "metadata": {
    "id": "wtyVcUWvvl74"
   },
   "source": [
    "* Encoding the outcome variable: The outcome we are looking at is whether the patient gets readmitted to the hospital within 30 days or not. The variable actually has < 30, > 30 and No Readmission categories. To reduce our problem to a binary classification, we combined the readmission after 30 days and no readmission into a single category:"
   ]
  },
  {
   "cell_type": "code",
   "execution_count": null,
   "metadata": {
    "id": "BiPwf77pvl74"
   },
   "outputs": [
    {
     "name": "stderr",
     "output_type": "stream",
     "text": [
      "/var/folders/fn/v79_dzmd4p58yddfx6975qz80000gp/T/ipykernel_15653/2457122364.py:3: FutureWarning: Downcasting behavior in `replace` is deprecated and will be removed in a future version. To retain the old behavior, explicitly call `result.infer_objects(copy=False)`. To opt-in to the future behavior, set `pd.set_option('future.no_silent_downcasting', True)`\n",
      "  df['readmitted'] = df['readmitted'].replace('NO', 0)\n"
     ]
    }
   ],
   "source": [
    "df['readmitted'] = df['readmitted'].replace('>30', 0)\n",
    "df['readmitted'] = df['readmitted'].replace('<30', 1)\n",
    "df['readmitted'] = df['readmitted'].replace('NO', 0)"
   ]
  },
  {
   "cell_type": "markdown",
   "metadata": {
    "id": "TbIzel-Pvl75"
   },
   "source": [
    "* Categorization of diagnoses: The dataset contained up to three diagnoses for a given patient (primary, secondary and additional). However, each of these had 700–900 unique ICD codes and it is extremely difficult to include them in the model and interpret meaningfully. Therefore, we collapsed these diagnosis codes into 9 disease categories in an almost similar fashion to that done in the original publication using this dataset. These 9 categories include Circulatory, Respiratory, Digestive, Diabetes, Injury, Musculoskeletal, Genitourinary, Neoplasms, and Others. Although we did this for primary, secondary and additional diagnoses, we eventually decided to use only the primary diagnosis in our model. Doing this in python was slightly cumbersome because, well, we are mapping the disease codes to certain category names. Below code should demonstrate this easily."
   ]
  },
  {
   "cell_type": "code",
   "execution_count": null,
   "metadata": {
    "id": "_B2b1l-Jvl75"
   },
   "outputs": [],
   "source": [
    "# Creating additional columns for diagnosis# Creati\n",
    "df['level1_diag1'] = df['diag_1']\n",
    "df['level2_diag1'] = df['diag_1']\n",
    "df['level1_diag2'] = df['diag_2']\n",
    "df['level2_diag2'] = df['diag_2']\n",
    "df['level1_diag3'] = df['diag_3']\n",
    "df['level2_diag3'] = df['diag_3']"
   ]
  },
  {
   "cell_type": "code",
   "execution_count": null,
   "metadata": {
    "id": "rGlBo0TNvl75"
   },
   "outputs": [],
   "source": [
    "df.loc[df['diag_1'].str.contains('V'), ['level1_diag1', 'level2_diag1']] = 0\n",
    "df.loc[df['diag_1'].str.contains('E'), ['level1_diag1', 'level2_diag1']] = 0\n",
    "df.loc[df['diag_2'].str.contains('V'), ['level1_diag2', 'level2_diag2']] = 0\n",
    "df.loc[df['diag_2'].str.contains('E'), ['level1_diag2', 'level2_diag2']] = 0\n",
    "df.loc[df['diag_3'].str.contains('V'), ['level1_diag3', 'level2_diag3']] = 0\n",
    "df.loc[df['diag_3'].str.contains('E'), ['level1_diag3', 'level2_diag3']] = 0\n",
    "df['level1_diag1'] = df['level1_diag1'].replace('?', -1)\n",
    "df['level2_diag1'] = df['level2_diag1'].replace('?', -1)\n",
    "df['level1_diag2'] = df['level1_diag2'].replace('?', -1)\n",
    "df['level2_diag2'] = df['level2_diag2'].replace('?', -1)\n",
    "df['level1_diag3'] = df['level1_diag3'].replace('?', -1)\n",
    "df['level2_diag3'] = df['level2_diag3'].replace('?', -1)"
   ]
  },
  {
   "cell_type": "code",
   "execution_count": null,
   "metadata": {
    "id": "F-B3EBAWvl75"
   },
   "outputs": [],
   "source": [
    "df['level1_diag1'] = df['level1_diag1'].astype(float)\n",
    "df['level2_diag1'] = df['level2_diag1'].astype(float)\n",
    "df['level1_diag2'] = df['level1_diag2'].astype(float)\n",
    "df['level2_diag2'] = df['level2_diag2'].astype(float)\n",
    "df['level1_diag3'] = df['level1_diag3'].astype(float)\n",
    "df['level2_diag3'] = df['level2_diag3'].astype(float)"
   ]
  },
  {
   "cell_type": "code",
   "execution_count": null,
   "metadata": {
    "id": "-bj_E6rpvl76"
   },
   "outputs": [],
   "source": [
    "for index, row in df.iterrows():\n",
    "    if (row['level1_diag1'] >= 390 and row['level1_diag1'] < 460) or (np.floor(row['level1_diag1']) == 785):\n",
    "        df.loc[index, 'level1_diag1'] = 1\n",
    "    elif (row['level1_diag1'] >= 460 and row['level1_diag1'] < 520) or (np.floor(row['level1_diag1']) == 786):\n",
    "        df.loc[index, 'level1_diag1'] = 2\n",
    "    elif (row['level1_diag1'] >= 520 and row['level1_diag1'] < 580) or (np.floor(row['level1_diag1']) == 787):\n",
    "        df.loc[index, 'level1_diag1'] = 3\n",
    "    elif (np.floor(row['level1_diag1']) == 250):\n",
    "        df.loc[index, 'level1_diag1'] = 4\n",
    "    elif (row['level1_diag1'] >= 800 and row['level1_diag1'] < 1000):\n",
    "        df.loc[index, 'level1_diag1'] = 5\n",
    "    elif (row['level1_diag1'] >= 710 and row['level1_diag1'] < 740):\n",
    "        df.loc[index, 'level1_diag1'] = 6\n",
    "    elif (row['level1_diag1'] >= 580 and row['level1_diag1'] < 630) or (np.floor(row['level1_diag1']) == 788):\n",
    "        df.loc[index, 'level1_diag1'] = 7\n",
    "    elif (row['level1_diag1'] >= 140 and row['level1_diag1'] < 240):\n",
    "        df.loc[index, 'level1_diag1'] = 8\n",
    "    else:\n",
    "        df.loc[index, 'level1_diag1'] = 0\n",
    "\n",
    "    if (row['level1_diag2'] >= 390 and row['level1_diag2'] < 460) or (np.floor(row['level1_diag2']) == 785):\n",
    "        df.loc[index, 'level1_diag2'] = 1\n",
    "    elif (row['level1_diag2'] >= 460 and row['level1_diag2'] < 520) or (np.floor(row['level1_diag2']) == 786):\n",
    "        df.loc[index, 'level1_diag2'] = 2\n",
    "    elif (row['level1_diag2'] >= 520 and row['level1_diag2'] < 580) or (np.floor(row['level1_diag2']) == 787):\n",
    "        df.loc[index, 'level1_diag2'] = 3\n",
    "    elif (np.floor(row['level1_diag2']) == 250):\n",
    "        df.loc[index, 'level1_diag2'] = 4\n",
    "    elif (row['level1_diag2'] >= 800 and row['level1_diag2'] < 1000):\n",
    "        df.loc[index, 'level1_diag2'] = 5\n",
    "    elif (row['level1_diag2'] >= 710 and row['level1_diag2'] < 740):\n",
    "        df.loc[index, 'level1_diag2'] = 6\n",
    "    elif (row['level1_diag2'] >= 580 and row['level1_diag2'] < 630) or (np.floor(row['level1_diag2']) == 788):\n",
    "        df.loc[index, 'level1_diag2'] = 7\n",
    "    elif (row['level1_diag2'] >= 140 and row['level1_diag2'] < 240):\n",
    "        df.loc[index, 'level1_diag2'] = 8\n",
    "    else:\n",
    "        df.loc[index, 'level1_diag2'] = 0\n",
    "\n",
    "    if (row['level1_diag3'] >= 390 and row['level1_diag3'] < 460) or (np.floor(row['level1_diag3']) == 785):\n",
    "        df.loc[index, 'level1_diag3'] = 1\n",
    "    elif (row['level1_diag3'] >= 460 and row['level1_diag3'] < 520) or (np.floor(row['level1_diag3']) == 786):\n",
    "        df.loc[index, 'level1_diag3'] = 2\n",
    "    elif (row['level1_diag3'] >= 520 and row['level1_diag3'] < 580) or (np.floor(row['level1_diag3']) == 787):\n",
    "        df.loc[index, 'level1_diag3'] = 3\n",
    "    elif (np.floor(row['level1_diag3']) == 250):\n",
    "        df.loc[index, 'level1_diag3'] = 4\n",
    "    elif (row['level1_diag3'] >= 800 and row['level1_diag3'] < 1000):\n",
    "        df.loc[index, 'level1_diag3'] = 5\n",
    "    elif (row['level1_diag3'] >= 710 and row['level1_diag3'] < 740):\n",
    "        df.loc[index, 'level1_diag3'] = 6\n",
    "    elif (row['level1_diag3'] >= 580 and row['level1_diag3'] < 630) or (np.floor(row['level1_diag3']) == 788):\n",
    "        df.loc[index, 'level1_diag3'] = 7\n",
    "    elif (row['level1_diag3'] >= 140 and row['level1_diag3'] < 240):\n",
    "        df.loc[index, 'level1_diag3'] = 8\n",
    "    else:\n",
    "        df.loc[index, 'level1_diag3'] = 0\n"
   ]
  },
  {
   "cell_type": "code",
   "execution_count": null,
   "metadata": {
    "id": "0ikXbl8Wvl76"
   },
   "outputs": [],
   "source": [
    "for index, row in df.iterrows():\n",
    "    if (row['level2_diag1'] >= 390 and row['level2_diag1'] < 399):\n",
    "        df.loc[index, 'level2_diag1'] = 1\n",
    "    elif (row['level2_diag1'] >= 401 and row['level2_diag1'] < 415):\n",
    "        df.loc[index, 'level2_diag1'] = 2\n",
    "    elif (row['level2_diag1'] >= 415 and row['level2_diag1'] < 460):\n",
    "        df.loc[index, 'level2_diag1'] = 3\n",
    "    elif (np.floor(row['level2_diag1']) == 785):\n",
    "        df.loc[index, 'level2_diag1'] = 4\n",
    "    elif (row['level2_diag1'] >= 460 and row['level2_diag1'] < 489):\n",
    "        df.loc[index, 'level2_diag1'] = 5\n",
    "    elif (row['level2_diag1'] >= 490 and row['level2_diag1'] < 497):\n",
    "        df.loc[index, 'level2_diag1'] = 6\n",
    "    elif (row['level2_diag1'] >= 500 and row['level2_diag1'] < 520):\n",
    "        df.loc[index, 'level2_diag1'] = 7\n",
    "    elif (np.floor(row['level2_diag1']) == 786):\n",
    "        df.loc[index, 'level2_diag1'] = 8\n",
    "    elif (row['level2_diag1'] >= 520 and row['level2_diag1'] < 530):\n",
    "        df.loc[index, 'level2_diag1'] = 9\n",
    "    elif (row['level2_diag1'] >= 530 and row['level2_diag1'] < 544):\n",
    "        df.loc[index, 'level2_diag1'] = 10\n",
    "    elif (row['level2_diag1'] >= 550 and row['level2_diag1'] < 554):\n",
    "        df.loc[index, 'level2_diag1'] = 11\n",
    "    elif (row['level2_diag1'] >= 555 and row['level2_diag1'] < 580):\n",
    "        df.loc[index, 'level2_diag1'] = 12\n",
    "    elif (np.floor(row['level2_diag1']) == 787):\n",
    "        df.loc[index, 'level2_diag1'] = 13\n",
    "    elif (np.floor(row['level2_diag1']) == 250):\n",
    "        df.loc[index, 'level2_diag1'] = 14\n",
    "    elif (row['level2_diag1'] >= 800 and row['level2_diag1'] < 1000):\n",
    "        df.loc[index, 'level2_diag1'] = 15\n",
    "    elif (row['level2_diag1'] >= 710 and row['level2_diag1'] < 740):\n",
    "        df.loc[index, 'level2_diag1'] = 16\n",
    "    elif (row['level2_diag1'] >= 580 and row['level2_diag1'] < 630):\n",
    "        df.loc[index, 'level2_diag1'] = 17\n",
    "    elif (np.floor(row['level2_diag1']) == 788):\n",
    "        df.loc[index, 'level2_diag1'] = 18\n",
    "    elif (row['level2_diag1'] >= 140 and row['level2_diag1'] < 240):\n",
    "        df.loc[index, 'level2_diag1'] = 19\n",
    "    elif row['level2_diag1'] >= 240 and row['level2_diag1'] < 280 and (np.floor(row['level2_diag1']) != 250):\n",
    "        df.loc[index, 'level2_diag1'] = 20\n",
    "    elif (row['level2_diag1'] >= 680 and row['level2_diag1'] < 710) or (np.floor(row['level2_diag1']) == 782):\n",
    "        df.loc[index, 'level2_diag1'] = 21\n",
    "    elif (row['level2_diag1'] >= 290 and row['level2_diag1'] < 320):\n",
    "        df.loc[index, 'level2_diag1'] = 22\n",
    "    else:\n",
    "        df.loc[index, 'level2_diag1'] = 0\n",
    "\n",
    "    if (row['level2_diag2'] >= 390 and row['level2_diag2'] < 399):\n",
    "        df.loc[index, 'level2_diag2'] = 1\n",
    "    elif (row['level2_diag2'] >= 401 and row['level2_diag2'] < 415):\n",
    "        df.loc[index, 'level2_diag2'] = 2\n",
    "    elif (row['level2_diag2'] >= 415 and row['level2_diag2'] < 460):\n",
    "        df.loc[index, 'level2_diag2'] = 3\n",
    "    elif (np.floor(row['level2_diag2']) == 785):\n",
    "        df.loc[index, 'level2_diag2'] = 4\n",
    "    elif (row['level2_diag2'] >= 460 and row['level2_diag2'] < 489):\n",
    "        df.loc[index, 'level2_diag2'] = 5\n",
    "    elif (row['level2_diag2'] >= 490 and row['level2_diag2'] < 497):\n",
    "        df.loc[index, 'level2_diag2'] = 6\n",
    "    elif (row['level2_diag2'] >= 500 and row['level2_diag2'] < 520):\n",
    "        df.loc[index, 'level2_diag2'] = 7\n",
    "    elif (np.floor(row['level2_diag2']) == 786):\n",
    "        df.loc[index, 'level2_diag2'] = 8\n",
    "    elif (row['level2_diag2'] >= 520 and row['level2_diag2'] < 530):\n",
    "        df.loc[index, 'level2_diag2'] = 9\n",
    "    elif (row['level2_diag2'] >= 530 and row['level2_diag2'] < 544):\n",
    "        df.loc[index, 'level2_diag2'] = 10\n",
    "    elif (row['level2_diag2'] >= 550 and row['level2_diag2'] < 554):\n",
    "        df.loc[index, 'level2_diag2'] = 11\n",
    "    elif (row['level2_diag2'] >= 555 and row['level2_diag2'] < 580):\n",
    "        df.loc[index, 'level2_diag2'] = 12\n",
    "    elif (np.floor(row['level2_diag2']) == 787):\n",
    "        df.loc[index, 'level2_diag2'] = 13\n",
    "    elif (np.floor(row['level2_diag2']) == 250):\n",
    "        df.loc[index, 'level2_diag2'] = 14\n",
    "    elif (row['level2_diag2'] >= 800 and row['level2_diag2'] < 1000):\n",
    "        df.loc[index, 'level2_diag2'] = 15\n",
    "    elif (row['level2_diag2'] >= 710 and row['level2_diag2'] < 740):\n",
    "        df.loc[index, 'level2_diag2'] = 16\n",
    "    elif (row['level2_diag2'] >= 580 and row['level2_diag2'] < 630):\n",
    "        df.loc[index, 'level2_diag2'] = 17\n",
    "    elif (np.floor(row['level2_diag2']) == 788):\n",
    "        df.loc[index, 'level2_diag2'] = 18\n",
    "    elif (row['level2_diag2'] >= 140 and row['level2_diag2'] < 240):\n",
    "        df.loc[index, 'level2_diag2'] = 19\n",
    "    elif row['level2_diag2'] >= 240 and row['level2_diag2'] < 280 and (np.floor(row['level2_diag2']) != 250):\n",
    "        df.loc[index, 'level2_diag2'] = 20\n",
    "    elif (row['level2_diag2'] >= 680 and row['level2_diag2'] < 710) or (np.floor(row['level2_diag2']) == 782):\n",
    "        df.loc[index, 'level2_diag2'] = 21\n",
    "    elif (row['level2_diag2'] >= 290 and row['level2_diag2'] < 320):\n",
    "        df.loc[index, 'level2_diag2'] = 22\n",
    "    else:\n",
    "        df.loc[index, 'level2_diag2'] = 0\n",
    "\n",
    "\n",
    "    if (row['level2_diag3'] >= 390 and row['level2_diag3'] < 399):\n",
    "        df.loc[index, 'level2_diag3'] = 1\n",
    "    elif (row['level2_diag3'] >= 401 and row['level2_diag3'] < 415):\n",
    "        df.loc[index, 'level2_diag3'] = 2\n",
    "    elif (row['level2_diag3'] >= 415 and row['level2_diag3'] < 460):\n",
    "        df.loc[index, 'level2_diag3'] = 3\n",
    "    elif (np.floor(row['level2_diag3']) == 785):\n",
    "        df.loc[index, 'level2_diag3'] = 4\n",
    "    elif (row['level2_diag3'] >= 460 and row['level2_diag3'] < 489):\n",
    "        df.loc[index, 'level2_diag3'] = 5\n",
    "    elif (row['level2_diag3'] >= 490 and row['level2_diag3'] < 497):\n",
    "        df.loc[index, 'level2_diag3'] = 6\n",
    "    elif (row['level2_diag3'] >= 500 and row['level2_diag3'] < 520):\n",
    "        df.loc[index, 'level2_diag3'] = 7\n",
    "    elif (np.floor(row['level2_diag3']) == 786):\n",
    "        df.loc[index, 'level2_diag3'] = 8\n",
    "    elif (row['level2_diag3'] >= 520 and row['level2_diag3'] < 530):\n",
    "        df.loc[index, 'level2_diag3'] = 9\n",
    "    elif (row['level2_diag3'] >= 530 and row['level2_diag3'] < 544):\n",
    "        df.loc[index, 'level2_diag3'] = 10\n",
    "    elif (row['level2_diag3'] >= 550 and row['level2_diag3'] < 554):\n",
    "        df.loc[index, 'level2_diag3'] = 11\n",
    "    elif (row['level2_diag3'] >= 555 and row['level2_diag3'] < 580):\n",
    "        df.loc[index, 'level2_diag3'] = 12\n",
    "    elif (np.floor(row['level2_diag3']) == 787):\n",
    "        df.loc[index, 'level2_diag3'] = 13\n",
    "    elif (np.floor(row['level2_diag3']) == 250):\n",
    "        df.loc[index, 'level2_diag3'] = 14\n",
    "    elif (row['level2_diag3'] >= 800 and row['level2_diag3'] < 1000):\n",
    "        df.loc[index, 'level2_diag3'] = 15\n",
    "    elif (row['level2_diag3'] >= 710 and row['level2_diag3'] < 740):\n",
    "        df.loc[index, 'level2_diag3'] = 16\n",
    "    elif (row['level2_diag3'] >= 580 and row['level2_diag3'] < 630):\n",
    "        df.loc[index, 'level2_diag3'] = 17\n",
    "    elif (np.floor(row['level2_diag3']) == 788):\n",
    "        df.loc[index, 'level2_diag3'] = 18\n",
    "    elif (row['level2_diag3'] >= 140 and row['level2_diag3'] < 240):\n",
    "        df.loc[index, 'level2_diag3'] = 19\n",
    "    elif row['level2_diag3'] >= 240 and row['level2_diag3'] < 280 and (np.floor(row['level2_diag3']) != 250):\n",
    "        df.loc[index, 'level2_diag3'] = 20\n",
    "    elif (row['level2_diag3'] >= 680 and row['level2_diag3'] < 710) or (np.floor(row['level2_diag3']) == 782):\n",
    "        df.loc[index, 'level2_diag3'] = 21\n",
    "    elif (row['level2_diag3'] >= 290 and row['level2_diag3'] < 320):\n",
    "        df.loc[index, 'level2_diag3'] = 22\n",
    "    else:\n",
    "        df.loc[index, 'level2_diag3'] = 0"
   ]
  },
  {
   "cell_type": "code",
   "execution_count": null,
   "metadata": {},
   "outputs": [],
   "source": [
    "df['age'] = df['age'].astype('int64')\n",
    "# print(df.age.value_counts())\n",
    "# convert age categories to mid-point values\n",
    "age_dict = {1:5, 2:15, 3:25, 4:35, 5:45, 6:55, 7:65, 8:75, 9:85, 10:95}\n",
    "df['age'] = df.age.map(age_dict)\n",
    "# print(df.age.value_counts())"
   ]
  },
  {
   "cell_type": "markdown",
   "metadata": {
    "id": "ijp-JMLlvl76"
   },
   "source": [
    "## Data Visualization"
   ]
  },
  {
   "cell_type": "markdown",
   "metadata": {
    "id": "0ANxufeBvl77"
   },
   "source": [
    "#### Distribution of Readmission\n",
    "Our target variable is imbalance. Number of readmitted patient are quite less as compared to Not readmitted"
   ]
  },
  {
   "cell_type": "code",
   "execution_count": null,
   "metadata": {
    "id": "xtcUUH1Wvl8E"
   },
   "outputs": [],
   "source": [
    "# convert data type of nominal features in dataframe to 'object' type\n",
    "i = ['encounter_id', 'patient_nbr', 'gender', 'admission_type_id', 'discharge_disposition_id', 'admission_source_id',\\\n",
    "          'A1Cresult', 'metformin', 'repaglinide', 'nateglinide', 'chlorpropamide', 'glimepiride', 'acetohexamide', \\\n",
    "          'glipizide', 'glyburide', 'tolbutamide', 'pioglitazone', 'rosiglitazone', 'acarbose','miglitol', \\\n",
    "          'troglitazone', 'tolazamide', 'insulin', 'glyburide-metformin', 'glipizide-metformin', \\\n",
    "          'glimepiride-pioglitazone', 'metformin-rosiglitazone', 'metformin-pioglitazone', 'change', 'diabetesMed', \\\n",
    "          'age', 'max_glu_serum', 'level1_diag1', 'level1_diag2', 'level1_diag3', 'level2_diag1', \n",
    "     'level2_diag2', 'level2_diag3']\n",
    "\n",
    "df[i] = df[i].astype('object')"
   ]
  },
  {
   "cell_type": "code",
   "execution_count": null,
   "metadata": {},
   "outputs": [
    {
     "data": {
      "text/plain": [
       "encounter_id                object\n",
       "patient_nbr                 object\n",
       "race                        object\n",
       "gender                      object\n",
       "age                         object\n",
       "admission_type_id           object\n",
       "discharge_disposition_id    object\n",
       "admission_source_id         object\n",
       "time_in_hospital             int64\n",
       "num_lab_procedures           int64\n",
       "num_procedures               int64\n",
       "num_medications              int64\n",
       "number_outpatient            int64\n",
       "number_emergency             int64\n",
       "number_inpatient             int64\n",
       "diag_1                      object\n",
       "diag_2                      object\n",
       "diag_3                      object\n",
       "number_diagnoses             int64\n",
       "max_glu_serum               object\n",
       "A1Cresult                   object\n",
       "metformin                   object\n",
       "repaglinide                 object\n",
       "nateglinide                 object\n",
       "chlorpropamide              object\n",
       "glimepiride                 object\n",
       "acetohexamide               object\n",
       "glipizide                   object\n",
       "glyburide                   object\n",
       "tolbutamide                 object\n",
       "pioglitazone                object\n",
       "rosiglitazone               object\n",
       "acarbose                    object\n",
       "miglitol                    object\n",
       "troglitazone                object\n",
       "tolazamide                  object\n",
       "insulin                     object\n",
       "glyburide-metformin         object\n",
       "glipizide-metformin         object\n",
       "glimepiride-pioglitazone    object\n",
       "metformin-rosiglitazone     object\n",
       "metformin-pioglitazone      object\n",
       "change                      object\n",
       "diabetesMed                 object\n",
       "readmitted                   int64\n",
       "service_utilization          int64\n",
       "numchange                    int64\n",
       "level1_diag1                object\n",
       "level2_diag1                object\n",
       "level1_diag2                object\n",
       "level2_diag2                object\n",
       "level1_diag3                object\n",
       "level2_diag3                object\n",
       "dtype: object"
      ]
     },
     "execution_count": 23,
     "metadata": {},
     "output_type": "execute_result"
    }
   ],
   "source": [
    "df.dtypes"
   ]
  },
  {
   "cell_type": "code",
   "execution_count": null,
   "metadata": {
    "id": "KYA4YJ1avl8F",
    "outputId": "0f9cb697-5530-4582-946b-40ad165cb036"
   },
   "outputs": [
    {
     "data": {
      "text/plain": [
       "nummed\n",
       "1    44589\n",
       "0    22156\n",
       "2    20901\n",
       "3     7448\n",
       "4     1290\n",
       "5       57\n",
       "6        5\n",
       "Name: count, dtype: int64"
      ]
     },
     "execution_count": 24,
     "metadata": {},
     "output_type": "execute_result"
    }
   ],
   "source": [
    "df['nummed'] = 0\n",
    "\n",
    "for col in keys:\n",
    "    df['nummed'] = df['nummed'] + df[col]\n",
    "df['nummed'].value_counts()"
   ]
  },
  {
   "cell_type": "code",
   "execution_count": null,
   "metadata": {
    "id": "EXVZVqmAvl8F",
    "outputId": "b9bab270-cf72-415e-e097-b91d67d22321"
   },
   "outputs": [
    {
     "data": {
      "text/plain": [
       "['num_medications',\n",
       " 'number_emergency',\n",
       " 'service_utilization',\n",
       " 'num_procedures',\n",
       " 'numchange',\n",
       " 'number_diagnoses',\n",
       " 'num_lab_procedures',\n",
       " 'time_in_hospital',\n",
       " 'number_outpatient',\n",
       " 'number_inpatient']"
      ]
     },
     "execution_count": 25,
     "metadata": {},
     "output_type": "execute_result"
    }
   ],
   "source": [
    "# get list of only numeric features\n",
    "num_col = list(set(list(df._get_numeric_data().columns))- {'readmitted','age'})\n",
    "num_col"
   ]
  },
  {
   "cell_type": "code",
   "execution_count": null,
   "metadata": {
    "id": "GZuhvLqqvl8F"
   },
   "outputs": [],
   "source": [
    "# Removing skewnewss and kurtosis using log transformation if it is above a threshold value -  2\n",
    "\n",
    "statdataframe = pd.DataFrame()\n",
    "statdataframe['numeric_column'] = num_col\n",
    "skew_before = []\n",
    "skew_after = []\n",
    "\n",
    "kurt_before = []\n",
    "kurt_after = []\n",
    "\n",
    "standard_deviation_before = []\n",
    "standard_deviation_after = []\n",
    "\n",
    "log_transform_needed = []\n",
    "\n",
    "log_type = []\n",
    "\n",
    "for i in num_col:\n",
    "    skewval = df[i].skew()\n",
    "    skew_before.append(skewval)\n",
    "\n",
    "    kurtval = df[i].kurtosis()\n",
    "    kurt_before.append(kurtval)\n",
    "\n",
    "    sdval = df[i].std()\n",
    "    standard_deviation_before.append(sdval)\n",
    "\n",
    "    if (abs(skewval) >2) & (abs(kurtval) >2):\n",
    "        log_transform_needed.append('Yes')\n",
    "\n",
    "        if len(df[df[i] == 0])/len(df) <=0.02:\n",
    "            log_type.append('log')\n",
    "            skewvalnew = np.log(pd.DataFrame(df[train_data[i] > 0])[i]).skew()\n",
    "            skew_after.append(skewvalnew)\n",
    "\n",
    "            kurtvalnew = np.log(pd.DataFrame(df[train_data[i] > 0])[i]).kurtosis()\n",
    "            kurt_after.append(kurtvalnew)\n",
    "\n",
    "            sdvalnew = np.log(pd.DataFrame(df[train_data[i] > 0])[i]).std()\n",
    "            standard_deviation_after.append(sdvalnew)\n",
    "\n",
    "        else:\n",
    "            log_type.append('log1p')\n",
    "            skewvalnew = np.log1p(pd.DataFrame(df[df[i] >= 0])[i]).skew()\n",
    "            skew_after.append(skewvalnew)\n",
    "\n",
    "            kurtvalnew = np.log1p(pd.DataFrame(df[df[i] >= 0])[i]).kurtosis()\n",
    "            kurt_after.append(kurtvalnew)\n",
    "\n",
    "            sdvalnew = np.log1p(pd.DataFrame(df[df[i] >= 0])[i]).std()\n",
    "            standard_deviation_after.append(sdvalnew)\n",
    "\n",
    "    else:\n",
    "        log_type.append('NA')\n",
    "        log_transform_needed.append('No')\n",
    "\n",
    "        skew_after.append(skewval)\n",
    "        kurt_after.append(kurtval)\n",
    "        standard_deviation_after.append(sdval)\n",
    "\n",
    "statdataframe['skew_before'] = skew_before\n",
    "statdataframe['kurtosis_before'] = kurt_before\n",
    "statdataframe['standard_deviation_before'] = standard_deviation_before\n",
    "statdataframe['log_transform_needed'] = log_transform_needed\n",
    "statdataframe['log_type'] = log_type\n",
    "statdataframe['skew_after'] = skew_after\n",
    "statdataframe['kurtosis_after'] = kurt_after\n",
    "statdataframe['standard_deviation_after'] = standard_deviation_after"
   ]
  },
  {
   "cell_type": "code",
   "execution_count": null,
   "metadata": {
    "id": "JNYJ-KDrvl8G"
   },
   "outputs": [],
   "source": [
    "# performing the log transformation for the columns determined to be needing it above.\n",
    "\n",
    "for i in range(len(statdataframe)):\n",
    "    if statdataframe['log_transform_needed'][i] == 'Yes':\n",
    "        colname = str(statdataframe['numeric_column'][i])\n",
    "\n",
    "        if statdataframe['log_type'][i] == 'log':\n",
    "            df = df[df[colname] > 0]\n",
    "            df[colname + \"_log\"] = np.log(df[colname])\n",
    "\n",
    "        elif statdataframe['log_type'][i] == 'log1p':\n",
    "            df = df[df[colname] >= 0]\n",
    "            df[colname + \"_log1p\"] = np.log1p(df[colname])"
   ]
  },
  {
   "cell_type": "code",
   "execution_count": null,
   "metadata": {
    "id": "jhPJevpEvl8G"
   },
   "outputs": [],
   "source": [
    "df = df.drop(['number_outpatient', 'number_inpatient', 'number_emergency','service_utilization'], axis = 1)"
   ]
  },
  {
   "cell_type": "code",
   "execution_count": null,
   "metadata": {
    "id": "VANr6igLvl8G",
    "outputId": "9e7ab65d-7dee-45bc-ce1c-9d83f2aa3090"
   },
   "outputs": [],
   "source": [
    "# df.shape"
   ]
  },
  {
   "cell_type": "code",
   "execution_count": null,
   "metadata": {
    "id": "Ijk3A3v5vl8H",
    "outputId": "c3bcf8a6-01d5-40fa-866a-c02ac53e4885"
   },
   "outputs": [],
   "source": [
    "# get list of only numeric features\n",
    "numerics = list(set(list(df._get_numeric_data().columns))- {'readmitted'})\n",
    "# numerics"
   ]
  },
  {
   "cell_type": "code",
   "execution_count": null,
   "metadata": {
    "id": "hPKd7ru9vl8H",
    "outputId": "97fdd389-d270-4fae-8b3e-49b027d7b472"
   },
   "outputs": [],
   "source": [
    "# show list of features that are categorical\n",
    "df.encounter_id = df.encounter_id.astype('int64')\n",
    "df.patient_nbr = df.patient_nbr.astype('int64')\n",
    "df.diabetesMed = df.diabetesMed.astype('int64')\n",
    "df.change = df.change.astype('int64')\n",
    "\n",
    "# convert data type of nominal features in dataframe to 'object' type for aggregating\n",
    "i = ['metformin', 'repaglinide', 'nateglinide', 'chlorpropamide', 'glimepiride', 'acetohexamide', \\\n",
    "          'glipizide', 'glyburide', 'tolbutamide', 'pioglitazone', 'rosiglitazone', 'acarbose','miglitol', \\\n",
    "          'troglitazone', 'tolazamide', 'insulin', 'glyburide-metformin', 'glipizide-metformin', \\\n",
    "          'glimepiride-pioglitazone', 'metformin-rosiglitazone', 'metformin-pioglitazone','A1Cresult']\n",
    "# df[i] = df[i].astype('int64')\n",
    "\n",
    "# df.dtypes"
   ]
  },
  {
   "cell_type": "code",
   "execution_count": null,
   "metadata": {
    "id": "K5psy32Vvl8H"
   },
   "outputs": [],
   "source": [
    "dfcopy = df.copy(deep = True)"
   ]
  },
  {
   "cell_type": "code",
   "execution_count": null,
   "metadata": {
    "id": "6TNLKe1Vvl8I"
   },
   "outputs": [],
   "source": [
    "df['readmitted'] = df['readmitted'].apply(lambda x: 0 if x == 2 else x)"
   ]
  },
  {
   "cell_type": "code",
   "execution_count": null,
   "metadata": {
    "id": "7T_fTZIxvl8I"
   },
   "outputs": [],
   "source": [
    "# drop individual diagnosis columns that have too granular disease information\n",
    "# also drop level 2 categorization (which was not comparable with any reference)\n",
    "# also drop level 1 secondary and tertiary diagnoses\n",
    "df.drop(['diag_1', 'diag_2', 'diag_3', 'level2_diag1', 'level1_diag2', 'level2_diag2', 'level1_diag3',\n",
    "         'level2_diag3'], axis=1, inplace=True)"
   ]
  },
  {
   "cell_type": "code",
   "execution_count": null,
   "metadata": {
    "id": "CcLk6zbavl8I"
   },
   "outputs": [],
   "source": [
    "interactionterms = [('num_medications','time_in_hospital'),\n",
    "('num_medications','num_procedures'),\n",
    "('time_in_hospital','num_lab_procedures'),\n",
    "('num_medications','num_lab_procedures'),\n",
    "('num_medications','number_diagnoses'),\n",
    "('age','number_diagnoses'),\n",
    "('change','num_medications'),\n",
    "('number_diagnoses','time_in_hospital'),\n",
    "('num_medications','numchange')]"
   ]
  },
  {
   "cell_type": "code",
   "execution_count": null,
   "metadata": {
    "id": "2pFYFsDivl8I"
   },
   "outputs": [],
   "source": [
    "for inter in interactionterms:\n",
    "    name = inter[0] + '|' + inter[1]\n",
    "    df[name] = df[inter[0]] * df[inter[1]]"
   ]
  },
  {
   "cell_type": "code",
   "execution_count": null,
   "metadata": {
    "id": "FyT2aXpCvl8J",
    "outputId": "6e1bac18-5b16-4caf-9669-1780f0342a26"
   },
   "outputs": [
    {
     "data": {
      "text/html": [
       "<div>\n",
       "<style scoped>\n",
       "    .dataframe tbody tr th:only-of-type {\n",
       "        vertical-align: middle;\n",
       "    }\n",
       "\n",
       "    .dataframe tbody tr th {\n",
       "        vertical-align: top;\n",
       "    }\n",
       "\n",
       "    .dataframe thead th {\n",
       "        text-align: right;\n",
       "    }\n",
       "</style>\n",
       "<table border=\"1\" class=\"dataframe\">\n",
       "  <thead>\n",
       "    <tr style=\"text-align: right;\">\n",
       "      <th></th>\n",
       "      <th>num_medications</th>\n",
       "      <th>time_in_hospital</th>\n",
       "      <th>num_medications|time_in_hospital</th>\n",
       "    </tr>\n",
       "  </thead>\n",
       "  <tbody>\n",
       "    <tr>\n",
       "      <th>1</th>\n",
       "      <td>18</td>\n",
       "      <td>3</td>\n",
       "      <td>54</td>\n",
       "    </tr>\n",
       "    <tr>\n",
       "      <th>2</th>\n",
       "      <td>13</td>\n",
       "      <td>2</td>\n",
       "      <td>26</td>\n",
       "    </tr>\n",
       "    <tr>\n",
       "      <th>3</th>\n",
       "      <td>16</td>\n",
       "      <td>2</td>\n",
       "      <td>32</td>\n",
       "    </tr>\n",
       "    <tr>\n",
       "      <th>4</th>\n",
       "      <td>8</td>\n",
       "      <td>1</td>\n",
       "      <td>8</td>\n",
       "    </tr>\n",
       "    <tr>\n",
       "      <th>5</th>\n",
       "      <td>16</td>\n",
       "      <td>3</td>\n",
       "      <td>48</td>\n",
       "    </tr>\n",
       "  </tbody>\n",
       "</table>\n",
       "</div>"
      ],
      "text/plain": [
       "   num_medications  time_in_hospital  num_medications|time_in_hospital\n",
       "1               18                 3                                54\n",
       "2               13                 2                                26\n",
       "3               16                 2                                32\n",
       "4                8                 1                                 8\n",
       "5               16                 3                                48"
      ]
     },
     "execution_count": 38,
     "metadata": {},
     "output_type": "execute_result"
    }
   ],
   "source": [
    "df[['num_medications','time_in_hospital', 'num_medications|time_in_hospital']].head()"
   ]
  },
  {
   "cell_type": "code",
   "execution_count": null,
   "metadata": {
    "id": "JzG-YecQvl8J"
   },
   "outputs": [],
   "source": [
    "# Feature Scaling\n",
    "datf = pd.DataFrame()\n",
    "datf['features'] = numerics\n",
    "datf['std_dev'] = datf['features'].apply(lambda x: df[x].std())\n",
    "datf['mean'] = datf['features'].apply(lambda x: df[x].mean())"
   ]
  },
  {
   "cell_type": "code",
   "execution_count": null,
   "metadata": {},
   "outputs": [
    {
     "data": {
      "text/plain": [
       "(67580, 55)"
      ]
     },
     "execution_count": 40,
     "metadata": {},
     "output_type": "execute_result"
    }
   ],
   "source": [
    "# dropping multiple encounters while keeping either first or last encounter of these patients\n",
    "df2 = df.drop_duplicates(subset= ['patient_nbr'], keep = 'first')\n",
    "df2.shape"
   ]
  },
  {
   "cell_type": "code",
   "execution_count": null,
   "metadata": {
    "id": "MYfnzyLLvl8K"
   },
   "outputs": [],
   "source": [
    "# standardize function\n",
    "def standardize(raw_data):\n",
    "    return ((raw_data - np.mean(raw_data, axis = 0)) / np.std(raw_data, axis = 0))"
   ]
  },
  {
   "cell_type": "code",
   "execution_count": null,
   "metadata": {
    "id": "fhl_XsNwvl8K",
    "outputId": "f1400473-d251-4ccf-f82d-f7238103cdda"
   },
   "outputs": [
    {
     "name": "stderr",
     "output_type": "stream",
     "text": [
      "/var/folders/fn/v79_dzmd4p58yddfx6975qz80000gp/T/ipykernel_15653/1394421667.py:1: SettingWithCopyWarning: \n",
      "A value is trying to be set on a copy of a slice from a DataFrame.\n",
      "Try using .loc[row_indexer,col_indexer] = value instead\n",
      "\n",
      "See the caveats in the documentation: https://pandas.pydata.org/pandas-docs/stable/user_guide/indexing.html#returning-a-view-versus-a-copy\n",
      "  df2[numerics] = standardize(df2[numerics])\n"
     ]
    }
   ],
   "source": [
    "df2[numerics] = standardize(df2[numerics])\n",
    "import scipy as sp\n",
    "df2 = df2[(np.abs(sp.stats.zscore(df2[numerics])) < 3).all(axis=1)]"
   ]
  },
  {
   "cell_type": "code",
   "execution_count": null,
   "metadata": {
    "id": "Cgp3_uSmvl8K",
    "outputId": "b0716555-ce9b-48b1-bc74-18bd95659ca8"
   },
   "outputs": [],
   "source": [
    "# from matplotlib.colors import ListedColormap\n",
    "# my_cmap = ListedColormap(sns.light_palette((250, 100, 50), input=\"husl\", n_colors=50).as_hex())\n",
    "# table = df2.drop(['patient_nbr', 'encounter_id'], axis=1).corr(method='pearson')\n",
    "# table.style.background_gradient(cmap=my_cmap, axis = 0)"
   ]
  },
  {
   "cell_type": "code",
   "execution_count": null,
   "metadata": {
    "id": "Kt0_UmMSvl8L"
   },
   "outputs": [],
   "source": [
    "df2['level1_diag1'] = df2['level1_diag1'].astype('object')\n",
    "df_pd = pd.get_dummies(df2, columns=['gender', 'admission_type_id', 'discharge_disposition_id',\n",
    "                                      'admission_source_id', 'max_glu_serum', 'A1Cresult', 'level1_diag1'], drop_first = True)\n",
    "just_dummies = pd.get_dummies(df_pd['race'])\n",
    "df_pd = pd.concat([df_pd, just_dummies], axis=1)\n",
    "df_pd.drop(['race'], inplace=True, axis=1)"
   ]
  },
  {
   "cell_type": "code",
   "execution_count": null,
   "metadata": {
    "id": "hU9QX6QJvl8L"
   },
   "outputs": [],
   "source": [
    "non_num_cols = ['race', 'gender', 'admission_type_id', 'discharge_disposition_id', 'admission_source_id',\n",
    "                'max_glu_serum', 'A1Cresult', 'level1_diag1' ]"
   ]
  },
  {
   "cell_type": "code",
   "execution_count": null,
   "metadata": {
    "id": "q3-_Jk2Tvl8L",
    "outputId": "b0e76d80-4fe5-40cc-cabd-dd2a3c32b7b6"
   },
   "outputs": [
    {
     "data": {
      "text/plain": [
       "['diabetesMed',\n",
       " 'service_utilization_log1p',\n",
       " 'num_procedures',\n",
       " 'number_outpatient_log1p',\n",
       " 'numchange',\n",
       " 'number_diagnoses',\n",
       " 'num_lab_procedures',\n",
       " 'time_in_hospital',\n",
       " 'number_inpatient_log1p',\n",
       " 'num_medications|num_procedures',\n",
       " 'patient_nbr',\n",
       " 'num_medications|numchange',\n",
       " 'num_medications|number_diagnoses',\n",
       " 'change|num_medications',\n",
       " 'number_diagnoses|time_in_hospital',\n",
       " 'time_in_hospital|num_lab_procedures',\n",
       " 'encounter_id',\n",
       " 'number_emergency_log1p',\n",
       " 'num_medications|num_lab_procedures',\n",
       " 'num_medications',\n",
       " 'num_medications|time_in_hospital']"
      ]
     },
     "execution_count": 55,
     "metadata": {},
     "output_type": "execute_result"
    }
   ],
   "source": [
    "num_cols = list(set(list(df._get_numeric_data().columns))- {'readmitted', 'change'})\n",
    "num_cols"
   ]
  },
  {
   "cell_type": "code",
   "execution_count": null,
   "metadata": {
    "id": "5fI0cFuIvl8M"
   },
   "outputs": [],
   "source": [
    "new_non_num_cols = []\n",
    "for i in non_num_cols:\n",
    "    for j in df_pd.columns:\n",
    "        if i in j:\n",
    "            new_non_num_cols.append(j)"
   ]
  },
  {
   "cell_type": "code",
   "execution_count": null,
   "metadata": {
    "id": "2TJlRGX5vl8M",
    "outputId": "70689660-9ddf-4992-e932-beda02e81664"
   },
   "outputs": [
    {
     "data": {
      "text/plain": [
       "['gender_1',\n",
       " 'admission_type_id_3',\n",
       " 'admission_type_id_4',\n",
       " 'admission_type_id_5',\n",
       " 'discharge_disposition_id_2',\n",
       " 'discharge_disposition_id_7',\n",
       " 'discharge_disposition_id_10',\n",
       " 'discharge_disposition_id_18',\n",
       " 'discharge_disposition_id_19',\n",
       " 'discharge_disposition_id_20',\n",
       " 'discharge_disposition_id_27',\n",
       " 'discharge_disposition_id_28',\n",
       " 'admission_source_id_4',\n",
       " 'admission_source_id_7',\n",
       " 'admission_source_id_8',\n",
       " 'admission_source_id_9',\n",
       " 'admission_source_id_11',\n",
       " 'max_glu_serum_1.0',\n",
       " 'A1Cresult_1.0',\n",
       " 'level1_diag1_1.0',\n",
       " 'level1_diag1_2.0',\n",
       " 'level1_diag1_3.0',\n",
       " 'level1_diag1_4.0',\n",
       " 'level1_diag1_5.0',\n",
       " 'level1_diag1_6.0',\n",
       " 'level1_diag1_7.0',\n",
       " 'level1_diag1_8.0']"
      ]
     },
     "execution_count": 57,
     "metadata": {},
     "output_type": "execute_result"
    }
   ],
   "source": [
    "new_non_num_cols"
   ]
  },
  {
   "cell_type": "code",
   "execution_count": null,
   "metadata": {
    "id": "rvd0Qjfxvl8N",
    "outputId": "20587c72-ef8e-48ff-aefe-be19eb6ed2bd"
   },
   "outputs": [
    {
     "data": {
      "text/plain": [
       "['num_medications|time_in_hospital',\n",
       " 'num_medications|num_procedures',\n",
       " 'time_in_hospital|num_lab_procedures',\n",
       " 'num_medications|num_lab_procedures',\n",
       " 'num_medications|number_diagnoses',\n",
       " 'age|number_diagnoses',\n",
       " 'change|num_medications',\n",
       " 'number_diagnoses|time_in_hospital',\n",
       " 'num_medications|numchange']"
      ]
     },
     "execution_count": 58,
     "metadata": {},
     "output_type": "execute_result"
    }
   ],
   "source": [
    "l = []\n",
    "for feature in list(df_pd.columns):\n",
    "    if '|' in feature:\n",
    "        l.append(feature)\n",
    "l"
   ]
  },
  {
   "cell_type": "code",
   "execution_count": null,
   "metadata": {
    "id": "YW7SyRBnvl8N",
    "outputId": "794e45ff-7736-447d-f29e-ea026ac9de04"
   },
   "outputs": [],
   "source": [
    "# df_pd.head().T"
   ]
  },
  {
   "cell_type": "markdown",
   "metadata": {
    "id": "Gzj4CStkvl8O"
   },
   "source": [
    "## Modeling"
   ]
  },
  {
   "cell_type": "markdown",
   "metadata": {
    "id": "yGZpEvHMvl8c"
   },
   "source": [
    "### Random Forest"
   ]
  },
  {
   "cell_type": "code",
   "execution_count": null,
   "metadata": {},
   "outputs": [],
   "source": [
    "from imblearn.over_sampling import SMOTE\n",
    "from collections import Counter\n",
    "from sklearn.metrics import accuracy_score, precision_score, recall_score\n",
    "from sklearn.model_selection import train_test_split"
   ]
  },
  {
   "cell_type": "code",
   "execution_count": null,
   "metadata": {},
   "outputs": [],
   "source": [
    "# !pip install imbalanced-learn"
   ]
  },
  {
   "cell_type": "code",
   "execution_count": null,
   "metadata": {},
   "outputs": [],
   "source": [
    "feature_set_no_int = ['age', 'time_in_hospital', 'num_procedures', 'num_medications', 'number_outpatient_log1p',\n",
    "                 'number_emergency_log1p', 'number_inpatient_log1p', 'number_diagnoses', 'metformin',\n",
    "                 'repaglinide', 'nateglinide', 'chlorpropamide', 'glimepiride', 'glipizide',\n",
    "                 'glyburide', 'pioglitazone', 'rosiglitazone', 'acarbose',\n",
    "                 'tolazamide', 'insulin', 'glyburide-metformin',\n",
    "                 'AfricanAmerican', 'Asian', 'Caucasian',\n",
    "                 'Hispanic', 'Other', 'gender_1',\n",
    "                 'admission_type_id_3', 'admission_type_id_5',\n",
    "                 'discharge_disposition_id_2', 'discharge_disposition_id_7',\n",
    "                 'discharge_disposition_id_10', 'discharge_disposition_id_18',\n",
    "                 'admission_source_id_4', 'admission_source_id_7',\n",
    "                 'admission_source_id_9',\n",
    "                 # 'max_glu_serum_0',\n",
    "                 # 'max_glu_serum_1',\n",
    "                 # 'A1Cresult_0', 'A1Cresult_1',\n",
    "                 'level1_diag1_1.0',\n",
    "                 'level1_diag1_2.0',\n",
    "                 'level1_diag1_3.0',\n",
    "                 'level1_diag1_4.0',\n",
    "                 'level1_diag1_5.0',\n",
    "                 'level1_diag1_6.0',\n",
    "                 'level1_diag1_7.0',\n",
    "                 'level1_diag1_8.0']"
   ]
  },
  {
   "cell_type": "code",
   "execution_count": null,
   "metadata": {
    "id": "ffV1bdeOvl8c",
    "outputId": "d9faad7a-82a7-4d07-cedd-f5e77d79efcf"
   },
   "outputs": [
    {
     "name": "stdout",
     "output_type": "stream",
     "text": [
      "Original dataset shape Counter({0: 54635, 1: 5071})\n",
      "New dataset shape Counter({0: 54635, 1: 54635})\n"
     ]
    }
   ],
   "source": [
    "X = df_pd[feature_set_no_int]\n",
    "y = df_pd['readmitted']\n",
    "\n",
    "print('Original dataset shape {}'.format(Counter(y)))\n",
    "smt = SMOTE(random_state=20)\n",
    "train_input_new, train_output_new = smt.fit_resample(X, y)\n",
    "print('New dataset shape {}'.format(Counter(train_output_new)))\n",
    "train_input_new = pd.DataFrame(train_input_new, columns = list(X.columns))\n",
    "X_train, X_test, y_train, y_test = train_test_split(train_input_new, train_output_new, test_size=0.20, random_state=0)"
   ]
  },
  {
   "cell_type": "code",
   "execution_count": null,
   "metadata": {
    "id": "scweVhkSvl8d",
    "outputId": "22a60f6a-6ec4-4abb-963d-b145f1ad38f3"
   },
   "outputs": [
    {
     "data": {
      "text/html": [
       "<style>#sk-container-id-1 {\n",
       "  /* Definition of color scheme common for light and dark mode */\n",
       "  --sklearn-color-text: black;\n",
       "  --sklearn-color-line: gray;\n",
       "  /* Definition of color scheme for unfitted estimators */\n",
       "  --sklearn-color-unfitted-level-0: #fff5e6;\n",
       "  --sklearn-color-unfitted-level-1: #f6e4d2;\n",
       "  --sklearn-color-unfitted-level-2: #ffe0b3;\n",
       "  --sklearn-color-unfitted-level-3: chocolate;\n",
       "  /* Definition of color scheme for fitted estimators */\n",
       "  --sklearn-color-fitted-level-0: #f0f8ff;\n",
       "  --sklearn-color-fitted-level-1: #d4ebff;\n",
       "  --sklearn-color-fitted-level-2: #b3dbfd;\n",
       "  --sklearn-color-fitted-level-3: cornflowerblue;\n",
       "\n",
       "  /* Specific color for light theme */\n",
       "  --sklearn-color-text-on-default-background: var(--sg-text-color, var(--theme-code-foreground, var(--jp-content-font-color1, black)));\n",
       "  --sklearn-color-background: var(--sg-background-color, var(--theme-background, var(--jp-layout-color0, white)));\n",
       "  --sklearn-color-border-box: var(--sg-text-color, var(--theme-code-foreground, var(--jp-content-font-color1, black)));\n",
       "  --sklearn-color-icon: #696969;\n",
       "\n",
       "  @media (prefers-color-scheme: dark) {\n",
       "    /* Redefinition of color scheme for dark theme */\n",
       "    --sklearn-color-text-on-default-background: var(--sg-text-color, var(--theme-code-foreground, var(--jp-content-font-color1, white)));\n",
       "    --sklearn-color-background: var(--sg-background-color, var(--theme-background, var(--jp-layout-color0, #111)));\n",
       "    --sklearn-color-border-box: var(--sg-text-color, var(--theme-code-foreground, var(--jp-content-font-color1, white)));\n",
       "    --sklearn-color-icon: #878787;\n",
       "  }\n",
       "}\n",
       "\n",
       "#sk-container-id-1 {\n",
       "  color: var(--sklearn-color-text);\n",
       "}\n",
       "\n",
       "#sk-container-id-1 pre {\n",
       "  padding: 0;\n",
       "}\n",
       "\n",
       "#sk-container-id-1 input.sk-hidden--visually {\n",
       "  border: 0;\n",
       "  clip: rect(1px 1px 1px 1px);\n",
       "  clip: rect(1px, 1px, 1px, 1px);\n",
       "  height: 1px;\n",
       "  margin: -1px;\n",
       "  overflow: hidden;\n",
       "  padding: 0;\n",
       "  position: absolute;\n",
       "  width: 1px;\n",
       "}\n",
       "\n",
       "#sk-container-id-1 div.sk-dashed-wrapped {\n",
       "  border: 1px dashed var(--sklearn-color-line);\n",
       "  margin: 0 0.4em 0.5em 0.4em;\n",
       "  box-sizing: border-box;\n",
       "  padding-bottom: 0.4em;\n",
       "  background-color: var(--sklearn-color-background);\n",
       "}\n",
       "\n",
       "#sk-container-id-1 div.sk-container {\n",
       "  /* jupyter's `normalize.less` sets `[hidden] { display: none; }`\n",
       "     but bootstrap.min.css set `[hidden] { display: none !important; }`\n",
       "     so we also need the `!important` here to be able to override the\n",
       "     default hidden behavior on the sphinx rendered scikit-learn.org.\n",
       "     See: https://github.com/scikit-learn/scikit-learn/issues/21755 */\n",
       "  display: inline-block !important;\n",
       "  position: relative;\n",
       "}\n",
       "\n",
       "#sk-container-id-1 div.sk-text-repr-fallback {\n",
       "  display: none;\n",
       "}\n",
       "\n",
       "div.sk-parallel-item,\n",
       "div.sk-serial,\n",
       "div.sk-item {\n",
       "  /* draw centered vertical line to link estimators */\n",
       "  background-image: linear-gradient(var(--sklearn-color-text-on-default-background), var(--sklearn-color-text-on-default-background));\n",
       "  background-size: 2px 100%;\n",
       "  background-repeat: no-repeat;\n",
       "  background-position: center center;\n",
       "}\n",
       "\n",
       "/* Parallel-specific style estimator block */\n",
       "\n",
       "#sk-container-id-1 div.sk-parallel-item::after {\n",
       "  content: \"\";\n",
       "  width: 100%;\n",
       "  border-bottom: 2px solid var(--sklearn-color-text-on-default-background);\n",
       "  flex-grow: 1;\n",
       "}\n",
       "\n",
       "#sk-container-id-1 div.sk-parallel {\n",
       "  display: flex;\n",
       "  align-items: stretch;\n",
       "  justify-content: center;\n",
       "  background-color: var(--sklearn-color-background);\n",
       "  position: relative;\n",
       "}\n",
       "\n",
       "#sk-container-id-1 div.sk-parallel-item {\n",
       "  display: flex;\n",
       "  flex-direction: column;\n",
       "}\n",
       "\n",
       "#sk-container-id-1 div.sk-parallel-item:first-child::after {\n",
       "  align-self: flex-end;\n",
       "  width: 50%;\n",
       "}\n",
       "\n",
       "#sk-container-id-1 div.sk-parallel-item:last-child::after {\n",
       "  align-self: flex-start;\n",
       "  width: 50%;\n",
       "}\n",
       "\n",
       "#sk-container-id-1 div.sk-parallel-item:only-child::after {\n",
       "  width: 0;\n",
       "}\n",
       "\n",
       "/* Serial-specific style estimator block */\n",
       "\n",
       "#sk-container-id-1 div.sk-serial {\n",
       "  display: flex;\n",
       "  flex-direction: column;\n",
       "  align-items: center;\n",
       "  background-color: var(--sklearn-color-background);\n",
       "  padding-right: 1em;\n",
       "  padding-left: 1em;\n",
       "}\n",
       "\n",
       "\n",
       "/* Toggleable style: style used for estimator/Pipeline/ColumnTransformer box that is\n",
       "clickable and can be expanded/collapsed.\n",
       "- Pipeline and ColumnTransformer use this feature and define the default style\n",
       "- Estimators will overwrite some part of the style using the `sk-estimator` class\n",
       "*/\n",
       "\n",
       "/* Pipeline and ColumnTransformer style (default) */\n",
       "\n",
       "#sk-container-id-1 div.sk-toggleable {\n",
       "  /* Default theme specific background. It is overwritten whether we have a\n",
       "  specific estimator or a Pipeline/ColumnTransformer */\n",
       "  background-color: var(--sklearn-color-background);\n",
       "}\n",
       "\n",
       "/* Toggleable label */\n",
       "#sk-container-id-1 label.sk-toggleable__label {\n",
       "  cursor: pointer;\n",
       "  display: block;\n",
       "  width: 100%;\n",
       "  margin-bottom: 0;\n",
       "  padding: 0.5em;\n",
       "  box-sizing: border-box;\n",
       "  text-align: center;\n",
       "}\n",
       "\n",
       "#sk-container-id-1 label.sk-toggleable__label-arrow:before {\n",
       "  /* Arrow on the left of the label */\n",
       "  content: \"▸\";\n",
       "  float: left;\n",
       "  margin-right: 0.25em;\n",
       "  color: var(--sklearn-color-icon);\n",
       "}\n",
       "\n",
       "#sk-container-id-1 label.sk-toggleable__label-arrow:hover:before {\n",
       "  color: var(--sklearn-color-text);\n",
       "}\n",
       "\n",
       "/* Toggleable content - dropdown */\n",
       "\n",
       "#sk-container-id-1 div.sk-toggleable__content {\n",
       "  max-height: 0;\n",
       "  max-width: 0;\n",
       "  overflow: hidden;\n",
       "  text-align: left;\n",
       "  /* unfitted */\n",
       "  background-color: var(--sklearn-color-unfitted-level-0);\n",
       "}\n",
       "\n",
       "#sk-container-id-1 div.sk-toggleable__content.fitted {\n",
       "  /* fitted */\n",
       "  background-color: var(--sklearn-color-fitted-level-0);\n",
       "}\n",
       "\n",
       "#sk-container-id-1 div.sk-toggleable__content pre {\n",
       "  margin: 0.2em;\n",
       "  border-radius: 0.25em;\n",
       "  color: var(--sklearn-color-text);\n",
       "  /* unfitted */\n",
       "  background-color: var(--sklearn-color-unfitted-level-0);\n",
       "}\n",
       "\n",
       "#sk-container-id-1 div.sk-toggleable__content.fitted pre {\n",
       "  /* unfitted */\n",
       "  background-color: var(--sklearn-color-fitted-level-0);\n",
       "}\n",
       "\n",
       "#sk-container-id-1 input.sk-toggleable__control:checked~div.sk-toggleable__content {\n",
       "  /* Expand drop-down */\n",
       "  max-height: 200px;\n",
       "  max-width: 100%;\n",
       "  overflow: auto;\n",
       "}\n",
       "\n",
       "#sk-container-id-1 input.sk-toggleable__control:checked~label.sk-toggleable__label-arrow:before {\n",
       "  content: \"▾\";\n",
       "}\n",
       "\n",
       "/* Pipeline/ColumnTransformer-specific style */\n",
       "\n",
       "#sk-container-id-1 div.sk-label input.sk-toggleable__control:checked~label.sk-toggleable__label {\n",
       "  color: var(--sklearn-color-text);\n",
       "  background-color: var(--sklearn-color-unfitted-level-2);\n",
       "}\n",
       "\n",
       "#sk-container-id-1 div.sk-label.fitted input.sk-toggleable__control:checked~label.sk-toggleable__label {\n",
       "  background-color: var(--sklearn-color-fitted-level-2);\n",
       "}\n",
       "\n",
       "/* Estimator-specific style */\n",
       "\n",
       "/* Colorize estimator box */\n",
       "#sk-container-id-1 div.sk-estimator input.sk-toggleable__control:checked~label.sk-toggleable__label {\n",
       "  /* unfitted */\n",
       "  background-color: var(--sklearn-color-unfitted-level-2);\n",
       "}\n",
       "\n",
       "#sk-container-id-1 div.sk-estimator.fitted input.sk-toggleable__control:checked~label.sk-toggleable__label {\n",
       "  /* fitted */\n",
       "  background-color: var(--sklearn-color-fitted-level-2);\n",
       "}\n",
       "\n",
       "#sk-container-id-1 div.sk-label label.sk-toggleable__label,\n",
       "#sk-container-id-1 div.sk-label label {\n",
       "  /* The background is the default theme color */\n",
       "  color: var(--sklearn-color-text-on-default-background);\n",
       "}\n",
       "\n",
       "/* On hover, darken the color of the background */\n",
       "#sk-container-id-1 div.sk-label:hover label.sk-toggleable__label {\n",
       "  color: var(--sklearn-color-text);\n",
       "  background-color: var(--sklearn-color-unfitted-level-2);\n",
       "}\n",
       "\n",
       "/* Label box, darken color on hover, fitted */\n",
       "#sk-container-id-1 div.sk-label.fitted:hover label.sk-toggleable__label.fitted {\n",
       "  color: var(--sklearn-color-text);\n",
       "  background-color: var(--sklearn-color-fitted-level-2);\n",
       "}\n",
       "\n",
       "/* Estimator label */\n",
       "\n",
       "#sk-container-id-1 div.sk-label label {\n",
       "  font-family: monospace;\n",
       "  font-weight: bold;\n",
       "  display: inline-block;\n",
       "  line-height: 1.2em;\n",
       "}\n",
       "\n",
       "#sk-container-id-1 div.sk-label-container {\n",
       "  text-align: center;\n",
       "}\n",
       "\n",
       "/* Estimator-specific */\n",
       "#sk-container-id-1 div.sk-estimator {\n",
       "  font-family: monospace;\n",
       "  border: 1px dotted var(--sklearn-color-border-box);\n",
       "  border-radius: 0.25em;\n",
       "  box-sizing: border-box;\n",
       "  margin-bottom: 0.5em;\n",
       "  /* unfitted */\n",
       "  background-color: var(--sklearn-color-unfitted-level-0);\n",
       "}\n",
       "\n",
       "#sk-container-id-1 div.sk-estimator.fitted {\n",
       "  /* fitted */\n",
       "  background-color: var(--sklearn-color-fitted-level-0);\n",
       "}\n",
       "\n",
       "/* on hover */\n",
       "#sk-container-id-1 div.sk-estimator:hover {\n",
       "  /* unfitted */\n",
       "  background-color: var(--sklearn-color-unfitted-level-2);\n",
       "}\n",
       "\n",
       "#sk-container-id-1 div.sk-estimator.fitted:hover {\n",
       "  /* fitted */\n",
       "  background-color: var(--sklearn-color-fitted-level-2);\n",
       "}\n",
       "\n",
       "/* Specification for estimator info (e.g. \"i\" and \"?\") */\n",
       "\n",
       "/* Common style for \"i\" and \"?\" */\n",
       "\n",
       ".sk-estimator-doc-link,\n",
       "a:link.sk-estimator-doc-link,\n",
       "a:visited.sk-estimator-doc-link {\n",
       "  float: right;\n",
       "  font-size: smaller;\n",
       "  line-height: 1em;\n",
       "  font-family: monospace;\n",
       "  background-color: var(--sklearn-color-background);\n",
       "  border-radius: 1em;\n",
       "  height: 1em;\n",
       "  width: 1em;\n",
       "  text-decoration: none !important;\n",
       "  margin-left: 1ex;\n",
       "  /* unfitted */\n",
       "  border: var(--sklearn-color-unfitted-level-1) 1pt solid;\n",
       "  color: var(--sklearn-color-unfitted-level-1);\n",
       "}\n",
       "\n",
       ".sk-estimator-doc-link.fitted,\n",
       "a:link.sk-estimator-doc-link.fitted,\n",
       "a:visited.sk-estimator-doc-link.fitted {\n",
       "  /* fitted */\n",
       "  border: var(--sklearn-color-fitted-level-1) 1pt solid;\n",
       "  color: var(--sklearn-color-fitted-level-1);\n",
       "}\n",
       "\n",
       "/* On hover */\n",
       "div.sk-estimator:hover .sk-estimator-doc-link:hover,\n",
       ".sk-estimator-doc-link:hover,\n",
       "div.sk-label-container:hover .sk-estimator-doc-link:hover,\n",
       ".sk-estimator-doc-link:hover {\n",
       "  /* unfitted */\n",
       "  background-color: var(--sklearn-color-unfitted-level-3);\n",
       "  color: var(--sklearn-color-background);\n",
       "  text-decoration: none;\n",
       "}\n",
       "\n",
       "div.sk-estimator.fitted:hover .sk-estimator-doc-link.fitted:hover,\n",
       ".sk-estimator-doc-link.fitted:hover,\n",
       "div.sk-label-container:hover .sk-estimator-doc-link.fitted:hover,\n",
       ".sk-estimator-doc-link.fitted:hover {\n",
       "  /* fitted */\n",
       "  background-color: var(--sklearn-color-fitted-level-3);\n",
       "  color: var(--sklearn-color-background);\n",
       "  text-decoration: none;\n",
       "}\n",
       "\n",
       "/* Span, style for the box shown on hovering the info icon */\n",
       ".sk-estimator-doc-link span {\n",
       "  display: none;\n",
       "  z-index: 9999;\n",
       "  position: relative;\n",
       "  font-weight: normal;\n",
       "  right: .2ex;\n",
       "  padding: .5ex;\n",
       "  margin: .5ex;\n",
       "  width: min-content;\n",
       "  min-width: 20ex;\n",
       "  max-width: 50ex;\n",
       "  color: var(--sklearn-color-text);\n",
       "  box-shadow: 2pt 2pt 4pt #999;\n",
       "  /* unfitted */\n",
       "  background: var(--sklearn-color-unfitted-level-0);\n",
       "  border: .5pt solid var(--sklearn-color-unfitted-level-3);\n",
       "}\n",
       "\n",
       ".sk-estimator-doc-link.fitted span {\n",
       "  /* fitted */\n",
       "  background: var(--sklearn-color-fitted-level-0);\n",
       "  border: var(--sklearn-color-fitted-level-3);\n",
       "}\n",
       "\n",
       ".sk-estimator-doc-link:hover span {\n",
       "  display: block;\n",
       "}\n",
       "\n",
       "/* \"?\"-specific style due to the `<a>` HTML tag */\n",
       "\n",
       "#sk-container-id-1 a.estimator_doc_link {\n",
       "  float: right;\n",
       "  font-size: 1rem;\n",
       "  line-height: 1em;\n",
       "  font-family: monospace;\n",
       "  background-color: var(--sklearn-color-background);\n",
       "  border-radius: 1rem;\n",
       "  height: 1rem;\n",
       "  width: 1rem;\n",
       "  text-decoration: none;\n",
       "  /* unfitted */\n",
       "  color: var(--sklearn-color-unfitted-level-1);\n",
       "  border: var(--sklearn-color-unfitted-level-1) 1pt solid;\n",
       "}\n",
       "\n",
       "#sk-container-id-1 a.estimator_doc_link.fitted {\n",
       "  /* fitted */\n",
       "  border: var(--sklearn-color-fitted-level-1) 1pt solid;\n",
       "  color: var(--sklearn-color-fitted-level-1);\n",
       "}\n",
       "\n",
       "/* On hover */\n",
       "#sk-container-id-1 a.estimator_doc_link:hover {\n",
       "  /* unfitted */\n",
       "  background-color: var(--sklearn-color-unfitted-level-3);\n",
       "  color: var(--sklearn-color-background);\n",
       "  text-decoration: none;\n",
       "}\n",
       "\n",
       "#sk-container-id-1 a.estimator_doc_link.fitted:hover {\n",
       "  /* fitted */\n",
       "  background-color: var(--sklearn-color-fitted-level-3);\n",
       "}\n",
       "</style><div id=\"sk-container-id-1\" class=\"sk-top-container\"><div class=\"sk-text-repr-fallback\"><pre>RandomForestClassifier(max_depth=25, min_samples_split=10, n_estimators=10)</pre><b>In a Jupyter environment, please rerun this cell to show the HTML representation or trust the notebook. <br />On GitHub, the HTML representation is unable to render, please try loading this page with nbviewer.org.</b></div><div class=\"sk-container\" hidden><div class=\"sk-item\"><div class=\"sk-estimator fitted sk-toggleable\"><input class=\"sk-toggleable__control sk-hidden--visually\" id=\"sk-estimator-id-1\" type=\"checkbox\" checked><label for=\"sk-estimator-id-1\" class=\"sk-toggleable__label fitted sk-toggleable__label-arrow fitted\">&nbsp;&nbsp;RandomForestClassifier<a class=\"sk-estimator-doc-link fitted\" rel=\"noreferrer\" target=\"_blank\" href=\"https://scikit-learn.org/1.5/modules/generated/sklearn.ensemble.RandomForestClassifier.html\">?<span>Documentation for RandomForestClassifier</span></a><span class=\"sk-estimator-doc-link fitted\">i<span>Fitted</span></span></label><div class=\"sk-toggleable__content fitted\"><pre>RandomForestClassifier(max_depth=25, min_samples_split=10, n_estimators=10)</pre></div> </div></div></div></div>"
      ],
      "text/plain": [
       "RandomForestClassifier(max_depth=25, min_samples_split=10, n_estimators=10)"
      ]
     },
     "execution_count": 69,
     "metadata": {},
     "output_type": "execute_result"
    }
   ],
   "source": [
    "from sklearn.ensemble import RandomForestClassifier\n",
    "rm = RandomForestClassifier(n_estimators = 10, max_depth=25, criterion = \"gini\", min_samples_split=10)\n",
    "rm.fit(X_train, y_train)"
   ]
  },
  {
   "cell_type": "code",
   "execution_count": null,
   "metadata": {
    "id": "DnXz0ZLOvl8d",
    "outputId": "eb2af872-6e38-46c6-85fb-50ff6c5d32ed"
   },
   "outputs": [
    {
     "data": {
      "text/html": [
       "<div>\n",
       "<style scoped>\n",
       "    .dataframe tbody tr th:only-of-type {\n",
       "        vertical-align: middle;\n",
       "    }\n",
       "\n",
       "    .dataframe tbody tr th {\n",
       "        vertical-align: top;\n",
       "    }\n",
       "\n",
       "    .dataframe thead th {\n",
       "        text-align: right;\n",
       "    }\n",
       "</style>\n",
       "<table border=\"1\" class=\"dataframe\">\n",
       "  <thead>\n",
       "    <tr style=\"text-align: right;\">\n",
       "      <th>Predict</th>\n",
       "      <th>0</th>\n",
       "      <th>1</th>\n",
       "      <th>All</th>\n",
       "    </tr>\n",
       "    <tr>\n",
       "      <th>Actual</th>\n",
       "      <th></th>\n",
       "      <th></th>\n",
       "      <th></th>\n",
       "    </tr>\n",
       "  </thead>\n",
       "  <tbody>\n",
       "    <tr>\n",
       "      <th>0</th>\n",
       "      <td>2113</td>\n",
       "      <td>1860</td>\n",
       "      <td>3973</td>\n",
       "    </tr>\n",
       "    <tr>\n",
       "      <th>1</th>\n",
       "      <td>235</td>\n",
       "      <td>185</td>\n",
       "      <td>420</td>\n",
       "    </tr>\n",
       "    <tr>\n",
       "      <th>All</th>\n",
       "      <td>2348</td>\n",
       "      <td>2045</td>\n",
       "      <td>4393</td>\n",
       "    </tr>\n",
       "  </tbody>\n",
       "</table>\n",
       "</div>"
      ],
      "text/plain": [
       "Predict     0     1   All\n",
       "Actual                   \n",
       "0        2113  1860  3973\n",
       "1         235   185   420\n",
       "All      2348  2045  4393"
      ]
     },
     "execution_count": 70,
     "metadata": {},
     "output_type": "execute_result"
    }
   ],
   "source": [
    "rm_prd = rm.predict(X_test)\n",
    "pd.crosstab(pd.Series(y_test, name = 'Actual'), pd.Series(rm_prd, name = 'Predict'), margins = True)"
   ]
  },
  {
   "cell_type": "code",
   "execution_count": null,
   "metadata": {},
   "outputs": [],
   "source": [
    "import pickle"
   ]
  },
  {
   "cell_type": "code",
   "execution_count": null,
   "metadata": {},
   "outputs": [
    {
     "name": "stdout",
     "output_type": "stream",
     "text": [
      "Model saved to trained_model_RF.pkl\n"
     ]
    }
   ],
   "source": [
    "# Save the model to a pickle file\n",
    "with open('trained_model_RForest2.pkl', 'wb') as file:\n",
    "    pickle.dump(rm, file)\n",
    "\n",
    "print(\"Model saved to trained_model_RF.pkl\")"
   ]
  },
  {
   "cell_type": "code",
   "execution_count": null,
   "metadata": {
    "id": "w6GkKEJFvl8e",
    "outputId": "a5a1c639-c439-4823-8d1a-577f5bb60c53"
   },
   "outputs": [
    {
     "name": "stdout",
     "output_type": "stream",
     "text": [
      "Accuracy is 0.93\n",
      "Precision is 0.96\n",
      "Recall is 0.89\n"
     ]
    }
   ],
   "source": [
    "print(\"Accuracy is {0:.2f}\".format(accuracy_score(y_test, rm_prd)))\n",
    "print(\"Precision is {0:.2f}\".format(precision_score(y_test, rm_prd)))\n",
    "print(\"Recall is {0:.2f}\".format(recall_score(y_test, rm_prd)))\n",
    "\n",
    "accuracy_rm = accuracy_score(y_test, rm_prd)\n",
    "precision_rm = precision_score(y_test, rm_prd)\n",
    "recall_rm = recall_score(y_test, rm_prd)"
   ]
  }
 ],
 "metadata": {
  "colab": {
   "provenance": []
  },
  "kaggle": {
   "accelerator": "none",
   "dataSources": [
    {
     "datasetId": 3724,
     "sourceId": 5903,
     "sourceType": "datasetVersion"
    }
   ],
   "dockerImageVersionId": 25114,
   "isGpuEnabled": false,
   "isInternetEnabled": false,
   "language": "python",
   "sourceType": "notebook"
  },
  "kernelspec": {
   "display_name": "Python 3 (ipykernel)",
   "language": "python",
   "name": "python3"
  },
  "language_info": {
   "codemirror_mode": {
    "name": "ipython",
    "version": 3
   },
   "file_extension": ".py",
   "mimetype": "text/x-python",
   "name": "python",
   "nbconvert_exporter": "python",
   "pygments_lexer": "ipython3",
   "version": "3.12.4"
  }
 },
 "nbformat": 4,
 "nbformat_minor": 4
}
